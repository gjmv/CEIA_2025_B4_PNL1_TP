{
  "cells": [
    {
      "cell_type": "markdown",
      "metadata": {
        "id": "g3yeJGnCYxuF"
      },
      "source": [
        "## Modelo de lenguaje con tokenización por caracteres"
      ]
    },
    {
      "cell_type": "markdown",
      "metadata": {
        "id": "Iv5PEwGzZA9-"
      },
      "source": [
        "### Consigna\n",
        "- Seleccionar un corpus de texto sobre el cual entrenar el modelo de lenguaje.\n",
        "- Realizar el pre-procesamiento adecuado para tokenizar el corpus, estructurar el dataset y separar entre datos de entrenamiento y validación.\n",
        "- Proponer arquitecturas de redes neuronales basadas en unidades recurrentes para implementar un modelo de lenguaje.\n",
        "- Con el o los modelos que consideren adecuados, generar nuevas secuencias a partir de secuencias de contexto con las estrategias de greedy search y beam search determístico y estocástico. En este último caso observar el efecto de la temperatura en la generación de secuencias.\n",
        "\n",
        "\n",
        "### Sugerencias\n",
        "- Durante el entrenamiento, guiarse por el descenso de la perplejidad en los datos de validación para finalizar el entrenamiento. Para ello se provee un callback.\n",
        "- Explorar utilizar SimpleRNN (celda de Elman), LSTM y GRU.\n",
        "- rmsprop es el optimizador recomendado para la buena convergencia. No obstante se pueden explorar otros.\n"
      ]
    },
    {
      "cell_type": "code",
      "execution_count": 1,
      "metadata": {
        "id": "Y-QdFbHZYj7C"
      },
      "outputs": [],
      "source": [
        "import os\n",
        "import requests \n",
        "import pandas as pd"
      ]
    },
    {
      "cell_type": "markdown",
      "metadata": {
        "id": "xTvXlEKQZdqx"
      },
      "source": [
        "### Datos\n",
        "Utilizo como dataset el epub de Drácula"
      ]
    },
    {
      "cell_type": "code",
      "execution_count": 2,
      "metadata": {},
      "outputs": [],
      "source": [
        "# Funcion auxiliar para descargar el dataset\n",
        "def download_dataset(dataset_url: str, target_filename: str, force: bool = False):\n",
        "    if os.path.exists(target_filename) and not force:\n",
        "        print(\"Dataset folder already exists, nothing downloaded.\")\n",
        "        return\n",
        "\n",
        "    os.makedirs(os.path.dirname(target_filename), exist_ok=True)\n",
        "    try:\n",
        "        with requests.get(dataset_url, stream=True) as response:\n",
        "            response.raise_for_status()  # Raise an exception for bad status codes\n",
        "\n",
        "            with open(target_filename, 'wb') as f:\n",
        "                for chunk in response.iter_content(chunk_size=8192):\n",
        "                    f.write(chunk)\n",
        "        print(f\"File '{target_filename}' downloaded successfully.\")\n",
        "    except requests.exceptions.RequestException as e:\n",
        "        raise(Exception(f\"Error downloading file: {e}\"))"
      ]
    },
    {
      "cell_type": "code",
      "execution_count": 3,
      "metadata": {},
      "outputs": [
        {
          "name": "stdout",
          "output_type": "stream",
          "text": [
            "Dataset folder already exists, nothing downloaded.\n"
          ]
        }
      ],
      "source": [
        "# Descargar el dataset\n",
        "dataset = \"datasets/dracula.txt\"\n",
        "download_dataset(\"https://www.gutenberg.org/cache/epub/345/pg345.txt\", dataset)"
      ]
    },
    {
      "cell_type": "code",
      "execution_count": 4,
      "metadata": {
        "id": "6v_ickFwBJTy"
      },
      "outputs": [
        {
          "name": "stdout",
          "output_type": "stream",
          "text": [
            "Length of article text: 860387 characters\n"
          ]
        }
      ],
      "source": [
        "# Leo todas las líneas del archivo\n",
        "df = pd.read_csv(dataset, sep='/n', header=None, engine=\"python\")\n",
        "df.head()\n",
        "\n",
        "article_text = ''\n",
        "\n",
        "#  Concateno todas las líneas en un solo string, en minúsculas\n",
        "for _, row in df[:None].iterrows():\n",
        "    article_text += row[0].lower() + ' '\n",
        "\n",
        "print(f\"Length of article text: {len(article_text)} characters\")"
      ]
    },
    {
      "cell_type": "code",
      "execution_count": 5,
      "metadata": {},
      "outputs": [
        {
          "name": "stdout",
          "output_type": "stream",
          "text": [
            "Length of article text: 419172 characters\n"
          ]
        }
      ],
      "source": [
        "# Recorto el texto para que sea mas manejable\n",
        "article_text = article_text.split(\"*** START OF THE PROJECT GUTENBERG EBOOK DRACULA ***\".lower())[1]\n",
        "article_text = article_text.split(\"*** END OF THE PROJECT GUTENBERG EBOOK DRACULA ***\".lower())[0]\n",
        "# Quito espacios extras\n",
        "article_text = \" \".join(article_text.split())\n",
        "# Me quedo solo con la mitad del texto\n",
        "article_text = article_text[:len(article_text)//2]\n",
        "print(f\"Length of article text: {len(article_text)} characters\")"
      ]
    },
    {
      "cell_type": "code",
      "execution_count": 6,
      "metadata": {
        "id": "WBE0sSYuB-E6"
      },
      "outputs": [
        {
          "data": {
            "text/plain": [
              "'en able to throw them off so easily. before us lay a green sloping land full of forests and woods, with here and there steep hills, crowned with clumps of trees or with farmhouses, the blank gable end to the road. there was everywhere a bewildering mass of fruit blossom--apple, plum, pear, cherry; and as we drove by i could see the green grass under the trees spangled with the fallen petals. in and out amongst these green hills of what they call here the “mittel land” ran the road, losing itself as it swept round the grassy curve, or was shut out by the straggling ends of pine woods, which here and there ran down the hillsides like tongues of flame. the road was rugged, but still we seemed to fly over it with a feverish haste. i could not understand then what the haste meant, but the driver was evidently bent on losing no time in reaching borgo prund. i was told that this road is in summertime excellent, but that it had not yet been put in order after the winter snows. in this respect '"
            ]
          },
          "execution_count": 6,
          "metadata": {},
          "output_type": "execute_result"
        }
      ],
      "source": [
        "# en article text se encuentra el texto del libro\n",
        "article_text[15000:16000]"
      ]
    },
    {
      "cell_type": "markdown",
      "metadata": {
        "id": "cP1JdiOIKQWi"
      },
      "source": [
        "### Elegir el tamaño del contexto\n",
        "\n",
        "En este caso, como el modelo de lenguaje es por caracteres, todo un gran corpus\n",
        "de texto puede ser considerado un documento en sí mismo y el tamaño de contexto\n",
        "puede ser elegido con más libertad en comparación a un modelo de lenguaje tokenizado por palabras y dividido en documentos más acotados."
      ]
    },
    {
      "cell_type": "code",
      "execution_count": 7,
      "metadata": {
        "id": "wumBNwdjJM3j"
      },
      "outputs": [],
      "source": [
        "# seleccionamos el tamaño de contexto\n",
        "max_context_size = 100"
      ]
    },
    {
      "cell_type": "code",
      "execution_count": 8,
      "metadata": {
        "id": "573Cg5n7VhWw"
      },
      "outputs": [],
      "source": [
        "# en este caso el vocabulario es el conjunto único de caracteres que existe en todo el texto\n",
        "chars_vocab = set(article_text)"
      ]
    },
    {
      "cell_type": "code",
      "execution_count": 9,
      "metadata": {
        "id": "VwTK6xgLJd8q"
      },
      "outputs": [
        {
          "data": {
            "text/plain": [
              "69"
            ]
          },
          "execution_count": 9,
          "metadata": {},
          "output_type": "execute_result"
        }
      ],
      "source": [
        "# la longitud de vocabulario de caracteres es:\n",
        "len(chars_vocab)"
      ]
    },
    {
      "cell_type": "code",
      "execution_count": 10,
      "metadata": {
        "id": "2W0AeQjXV1Ou"
      },
      "outputs": [],
      "source": [
        "# Construimos los dicionarios que asignan índices a caracteres y viceversa.\n",
        "# El diccionario `char2idx` servirá como tokenizador.\n",
        "char2idx = {k: v for v,k in enumerate(chars_vocab)}\n",
        "idx2char = {v: k for k,v in char2idx.items()}"
      ]
    },
    {
      "cell_type": "markdown",
      "metadata": {
        "id": "2oIUjVU0LB0r"
      },
      "source": [
        "###  Tokenizar"
      ]
    },
    {
      "cell_type": "code",
      "execution_count": 11,
      "metadata": {
        "id": "h07G3srdJppo"
      },
      "outputs": [],
      "source": [
        "# tokenizamos el texto completo\n",
        "tokenized_text = [char2idx[ch] for ch in article_text]"
      ]
    },
    {
      "cell_type": "code",
      "execution_count": 12,
      "metadata": {
        "id": "PwGVSKOiJ5bj"
      },
      "outputs": [
        {
          "name": "stdout",
          "output_type": "stream",
          "text": [
            "68, 41, 23, 12, 24, 49, 23, 11, 0, 37, 4, 0, 11, 37, 41, 23, 65, 11, 27, 48, 66, 59, 62, 41, 11, 8, 45, 49, 49, 24, 27, 48, 41, 23, 48, 45, 66, 64, 43, 11, 12, 66, 49, 66, 6, 50, 66, 64, 57, 11, 64, 62, 19, 11, 4, 66, 41, 59, 11, 40, 41, 66, 27, 27, 62, 48, 11, 51, 11, 68, 24, 64, 49, 23, 6, 11, 0, 6, 24, 37, 49, 45, 27, 50, 62, 41, 27, 0, 11, 12, 66, 6, 4, 41, 45, 40, 50, 48, 2, 11, 52, 54, 18, 34, 2, 11, 45, 64, 11, 48, 50, 62, 11, 24, 64, 45, 48, 62, 68, 11, 27, 48, 23, 48, 62, 27, 11, 66, 26, 11, 23, 65, 62, 41, 45, 12, 23, 2, 11, 23, 12, 12, 66, 41, 68, 45, 64, 40, 11, 48, 66, 11, 23, 12, 48, 11, 66, 26, 11, 12, 66, 64, 40, 41, 62, 27, 27, 2, 11, 37, 4, 11, 37, 41, 23, 65, 11, 27, 48, 66, 59, 62, 41, 11, 8, 0, 23, 49, 49, 11, 41, 45, 40, 50, 48, 27, 11, 41, 62, 27, 62, 41, 21, 62, 68, 5, 0, 57, 11, 6, 41, 45, 64, 48, 62, 68, 11, 45, 64, 11, 48, 50, 62, 11, 24, 64, 45, 48, 62, 68, 11, 27, 48, 23, 48, 62, 27, 11, 23, 48, 11, 48, 50, 62, 11, 12, 66, 24, 64, 48, 41, 4, 11, 49, 45, 26, 62, 11, 6, 41, 62, 27, 27, 2, 11, 40, 23, 41, 68, 62, 64, 11, 12, 45, 48, 4, 2, 11, 64, 5, 4, 5, 11, 48, 66, 11, 65, 4, 11, 68, 62, 23, 41, 11, 26, 41, 45, 62, 64, 68, 11, 50, 66, 65, 65, 4, 9, 37, 62, 40, 11, 12, 66, 64, 48, 62, 64, 48, 27, 11, 12, 50, 23, 6, 48, 62, 41, 11, 45, 5, 11, 38, 66, 64, 23, 48, 50, 23, 64, 11, 50, 23, 41, 59, 62, 41, 15, 27, 11, 38, 66, 24, 41, 64, 23, 49, 11, 12, 50, 23, 6, 48, 62, 41, 11, 45, 45, 5, 11, 38, 66, 64, 23, 48, 50, 23, 64, 11, 50, 23, 41, 59, 62, 41, 15, 27, 11, 38, 66, 24, 41, 64, 23, 49, 11, 12, 50, 23, 6, 48, 62, 41, 11, 45, 45, 45, 5, 11, 38, 66, 64, 23, 48, 50, 23, 64, 11, 50, 23, 41, 59, 62, 41, 15, 27, 11, 38, 66, 24, 41, 64, 23, 49, 11, 12, 50, 23, 6, 48, 62, 41, 11, 45, 21, 5, 11, 38, 66, 64, 23, 48, 50, 23, 64, 11, 50, 23, 41, 59, 62, 41, 15, 27, 11, 38, 66, 24, 41, 64, 23, 49, 11, 12, 50, 23, 6, 48, 62, 41, 11, 21, 5, 11, 49, 62, 48, 48, 62, 41, 27, 3, 49, 24, 12, 4, 11, 23, 64, 68, 11, 65, 45, 64, 23, 11, 12, 50, 23, 6, 48, 62, 41, 11, 21, 45, 5, 11, 65, 45, 64, 23, 11, 65, 24, 41, 41, 23, 4, 15, 27, 11, 38, 66, 24, 41, 64, 23, 49, 11, 12, 50, 23, 6, 48, 62, 41, 11, 21, 45, 45, 5, 11, 12, 24, 48, 48, 45, 64, 40, 11, 26, 41, 66, 65, 11, 60, 48, 50, 62, 11, 68, 23, 45, 49, 4, 40, 41, 23, 6, 50, 2, 35, 11, 54, 11, 23, 24, 40, 24, 27, 48, 11, 12, 50, 23, 6, 48, 62, 41, 11, 21, 45, 45, 45, 5, 11, 65, 45, 64, 23, 11, 65, 24, 41, 41, 23, 4, 15, 27, 11, 38, 66, 24, 41, 64, 23, 49, 11, 12, 50, 23, 6, 48, 62, 41, 11, 45, 16, 5, 11, 65, 45, 64, 23, 11, 65, 24, 41, 41, 23, 4, 15, 27, 11, 38, 66, 24, 41, 64, 23, 49, 11, 12, 50, 23, 6, 48, 62, 41, 11, 16, 5, 11, 65, 45, 64, 23, 11, 65, 24, 41, 41, 23, 4, 15, 27, 11, 38, 66, 24, 41, 64, 23, 49, 11, 12, 50, 23, 6, 48, 62, 41, 11, 16, 45, 5, 11, 49, 24, 12, 4, 11, 19, 62, 27, 48, 62, 64, 41, 23, 15, 27, 11, 68, 45, 23, 41, 4, 11, 12, 50, 23, 6, 48, 62, 41, 11, 16, 45, 45, 5, 11, 68, 41, 5, 11, 27, 62, 19, 23, 41, 68, 15, 27, 11, 68, 45, 23, 41, 4, 11, 12, 50, 23, 6, 48, 62, 41, 11, 16, 45, 45, 45, 5, 11, 68, 41, 5, 11, 27, 62, 19, 23, 41, 68, 15, 27, 11, 68, 45, 23, 41, 4, 11, 12, 50, 23, 6, 48, 62, 41, 11, 16, 45, 21, 5, 11, 65, 45, 64, 23, 11, 50, 23, 41, 59, 62, 41, 15, 27, 11, 38, 66, 24, 41, 64, 23, 49, 11, 12, 50, 23, 6, 48, 62, 41, 11, 16, 21, 5, 11, 68, 41, 5, 11, 27, 62, 19, 23, 41, 68, 15, 27, 11, 68, 45, 23, 41, 4, 11, 12, 50, 23, 6, 48, 62, 41, 11, 16, 21, 45, 5, 11, 68, 41, 5, 11, 27, 62, 19, 23, 41, 68, 15, 27, 11, 68, 45, 23, 41, 4, 11, 12, 50, 23, 6, 48, 62, 41, 11, 16, 21, 45, 45, 5, 11, 68, 41, 5, 11, 27, 62, 19, 23, 41, 68, 15, 27, 11, 68, 45, 23, 41, 4, 11, 12, 50, 23, 6, 48, 62, 41, 11, 16, 21, 45, 45, 45, 5, 11, 68, 41, 5, 11, 27, 62, 19, 23, 41, 68, 15, 27, 11, 68, 45, 23, 41, 4, 11, 12, 50, 23, 6, 48, 62, 41, 11, 16, 45, 16, 5, 11, 38, 66, 64, 23, 48, 50, 23, 64, 11, 50, 23, 41, 59, 62, 41, 15, 27, 11, 38, 66, 24, 41, 64, 23, 49, 11, 12, 50\n"
          ]
        }
      ],
      "source": [
        "print(*tokenized_text[:1000], sep=', ')"
      ]
    },
    {
      "cell_type": "code",
      "execution_count": 13,
      "metadata": {},
      "outputs": [
        {
          "name": "stdout",
          "output_type": "stream",
          "text": [
            "Total Sequences 419072\n",
            "[68, 41, 23, 12, 24, 49, 23, 11, 0, 37, 4, 0, 11, 37, 41, 23, 65, 11, 27, 48, 66, 59, 62, 41, 11, 8, 45, 49, 49, 24, 27, 48, 41, 23, 48, 45, 66, 64, 43, 11, 12, 66, 49, 66, 6, 50, 66, 64, 57, 11, 64, 62, 19, 11, 4, 66, 41, 59, 11, 40, 41, 66, 27, 27, 62, 48, 11, 51, 11, 68, 24, 64, 49, 23, 6, 11, 0, 6, 24, 37, 49, 45, 27, 50, 62, 41, 27, 0, 11, 12, 66, 6, 4, 41, 45, 40, 50, 48, 2, 11, 52]\n"
          ]
        }
      ],
      "source": [
        "# Cada secuencia tendrá una longitud de max_context_size caracteres y el caracter siguiente será la etiqueta a predecir.\n",
        "tokenized_sequences = list()\n",
        "def create_seq(raw_text):\n",
        "   for i in range(0,len(raw_text)-max_context_size):\n",
        "     tokenized_sequences.append(raw_text[i:max_context_size+i+1])\n",
        "   print('Total Sequences',len(tokenized_sequences))\n",
        "create_seq(tokenized_text)\n",
        "print(tokenized_sequences[0])"
      ]
    },
    {
      "cell_type": "code",
      "execution_count": 14,
      "metadata": {},
      "outputs": [
        {
          "data": {
            "text/plain": [
              "101"
            ]
          },
          "execution_count": 14,
          "metadata": {},
          "output_type": "execute_result"
        }
      ],
      "source": [
        "# Verifico la logitud de un tokenized_sequence\n",
        "len(tokenized_sequences[0])"
      ]
    },
    {
      "cell_type": "markdown",
      "metadata": {
        "id": "pfpYcaypKcI9"
      },
      "source": [
        "### Organizando y estructurando el dataset"
      ]
    },
    {
      "cell_type": "code",
      "execution_count": 15,
      "metadata": {},
      "outputs": [],
      "source": [
        "import numpy as np\n",
        "from sklearn.model_selection import train_test_split\n",
        "import torch\n",
        "from torch.utils.data import TensorDataset, DataLoader\n",
        "\n",
        "batch_size = 128\n",
        "\n",
        "# Separo en features y etiquetas\n",
        "tokenized_sequences = np.array(tokenized_sequences)\n",
        "X,y = tokenized_sequences[:,:-1], tokenized_sequences[:,-1]\n",
        "\n",
        "# Split (80% train, 20% valid)\n",
        "X_train, X_val, y_train, y_val = train_test_split(X, y, test_size=0.2, random_state=42)\n",
        "\n",
        "X_train_tensor = torch.tensor(X_train, dtype=torch.long)\n",
        "y_train_tensor = torch.tensor(y_train.squeeze(), dtype=torch.long)\n",
        "\n",
        "X_val_tensor = torch.tensor(X_val, dtype=torch.long)\n",
        "y_val_tensor = torch.tensor(y_val.squeeze(), dtype=torch.long)\n",
        "\n",
        "train_ds = TensorDataset(X_train_tensor, y_train_tensor)\n",
        "val_ds   = TensorDataset(X_val_tensor, y_val_tensor)\n",
        "\n",
        "train_loader = DataLoader(train_ds, batch_size=batch_size, shuffle=True)\n",
        "val_loader   = DataLoader(val_ds, batch_size=batch_size, shuffle=False)\n",
        "\n"
      ]
    },
    {
      "cell_type": "code",
      "execution_count": 16,
      "metadata": {
        "id": "KFAyA4zCWE-5"
      },
      "outputs": [
        {
          "data": {
            "text/plain": [
              "((335257, 100), (335257,), (83815, 100), (83815,))"
            ]
          },
          "execution_count": 16,
          "metadata": {},
          "output_type": "execute_result"
        }
      ],
      "source": [
        "X_train.shape, y_train.shape, X_val.shape, y_val.shape"
      ]
    },
    {
      "cell_type": "code",
      "execution_count": 17,
      "metadata": {
        "id": "qcKRl70HFTzG"
      },
      "outputs": [
        {
          "name": "stdout",
          "output_type": "stream",
          "text": [
            "[27  2 11 23 64 68 11 49 24 12  4 11 19 23 27 11 49 45 59 62] s, and lucy was like\n"
          ]
        }
      ],
      "source": [
        "print(X_train[0,-20:], \"\".join([idx2char[i] for i in X_train[0,-20:]]))"
      ]
    },
    {
      "cell_type": "code",
      "execution_count": 18,
      "metadata": {
        "id": "TVpLCKSZFXZO"
      },
      "outputs": [
        {
          "name": "stdout",
          "output_type": "stream",
          "text": [
            "11  \n"
          ]
        }
      ],
      "source": [
        "print(y_train[0], idx2char[y_train[0]])"
      ]
    },
    {
      "cell_type": "code",
      "execution_count": 19,
      "metadata": {
        "id": "wOFCR-KqbW1N"
      },
      "outputs": [
        {
          "name": "stdout",
          "output_type": "stream",
          "text": [
            "69\n"
          ]
        }
      ],
      "source": [
        "vocab_size = len(chars_vocab)\n",
        "print(vocab_size)"
      ]
    },
    {
      "cell_type": "markdown",
      "metadata": {
        "id": "tnnjdAQ5UAEJ"
      },
      "source": [
        "# Definiendo el modelo"
      ]
    },
    {
      "cell_type": "markdown",
      "metadata": {},
      "source": [
        "#### Perplexity\n"
      ]
    },
    {
      "cell_type": "code",
      "execution_count": 20,
      "metadata": {},
      "outputs": [],
      "source": [
        "import math\n",
        "\n",
        "def perplexity(loss_value: float) -> float:\n",
        "    try:\n",
        "        return math.exp(loss_value)\n",
        "    except OverflowError:\n",
        "        return float('inf')"
      ]
    },
    {
      "cell_type": "markdown",
      "metadata": {},
      "source": [
        "#### Modelo"
      ]
    },
    {
      "cell_type": "code",
      "execution_count": 21,
      "metadata": {},
      "outputs": [],
      "source": [
        "from torch import nn\n",
        "import torch.nn.functional as F\n",
        "\n",
        "class CharModel(nn.Module):\n",
        "    def __init__(self, vocab_size, embed_dim=5, hidden_dim=64, n_layers=2, dropout=0.2):\n",
        "        super(CharModel, self).__init__()\n",
        "\n",
        "        # Embedding:\n",
        "        self.embedding = nn.Embedding(num_embeddings=vocab_size+1, embedding_dim=embed_dim)\n",
        "\n",
        "        # LSTM\n",
        "        self.lstm = nn.LSTM(input_size=embed_dim, hidden_size=hidden_dim, batch_first=True, dropout=dropout, num_layers=n_layers)\n",
        "\n",
        "        # Last dropout and Fully connected layer\n",
        "        self.dropout = nn.Dropout(dropout)\n",
        "        self.fc1 = nn.Linear(hidden_dim, hidden_dim//2)\n",
        "        self.fc2 = nn.Linear(hidden_dim//2, vocab_size+1)\n",
        "\n",
        "    def forward(self, x):\n",
        "        # x: (batch, seq_len)\n",
        "        x = self.embedding(x)  # => (batch, seq_len, embed_dim)\n",
        "        x, _ = self.lstm(x)    # => (batch, seq_len, hidden_dim)\n",
        "        # take only the last output\n",
        "        x = x[:, -1, :]        # => (batch, 1, hidden_dim)\n",
        "        x = F.relu(self.fc1(self.dropout(x))) # => (batch, hidden_dim//2)\n",
        "        logits = self.fc2(x)                  # (batch, vocab_size+1)\n",
        "        return logits\n",
        "\n",
        "    def predict(self,x):\n",
        "        logits = self.forward(x) # (batch, vocab_size+1)\n",
        "        y_pred = F.softmax(logits, dim=1) # (batch, vocab_size+1)\n",
        "        return y_pred\n"
      ]
    },
    {
      "cell_type": "code",
      "execution_count": 22,
      "metadata": {},
      "outputs": [],
      "source": [
        "# Instancio el modelo, la función de pérdida y el optimizador\n",
        "# Se probaron varias configuraciones y esta dió resultados aceptables\n",
        "model = CharModel(vocab_size=vocab_size, embed_dim=20, hidden_dim=256, n_layers=2, dropout=0.2)\n",
        "criterion = nn.CrossEntropyLoss()\n",
        "optimizer = torch.optim.RMSprop(model.parameters(), lr=0.001, weight_decay=1e-5)"
      ]
    },
    {
      "cell_type": "code",
      "execution_count": 23,
      "metadata": {},
      "outputs": [
        {
          "data": {
            "text/plain": [
              "'cuda'"
            ]
          },
          "execution_count": 23,
          "metadata": {},
          "output_type": "execute_result"
        }
      ],
      "source": [
        "device = \"cuda\" if torch.cuda.is_available() else \"cpu\"\n",
        "device"
      ]
    },
    {
      "cell_type": "markdown",
      "metadata": {},
      "source": [
        "### Entrenamiento"
      ]
    },
    {
      "cell_type": "code",
      "execution_count": 24,
      "metadata": {},
      "outputs": [
        {
          "name": "stderr",
          "output_type": "stream",
          "text": [
            "loss 247.10818: 100%|██████████| 2620/2620 [00:41<00:00, 62.45it/s]\n",
            "val_loss 211.40832: 100%|██████████| 655/655 [00:04<00:00, 137.00it/s]\n"
          ]
        },
        {
          "name": "stdout",
          "output_type": "stream",
          "text": [
            "Epoch 1/30 | Train Loss: 1.931 | Train PPL: 6.897 | Val Loss: 1.652 | Val PPL: 5.218\n"
          ]
        },
        {
          "name": "stderr",
          "output_type": "stream",
          "text": [
            "loss 199.40420: 100%|██████████| 2620/2620 [00:41<00:00, 62.44it/s]\n",
            "val_loss 187.68996: 100%|██████████| 655/655 [00:04<00:00, 132.63it/s]\n"
          ]
        },
        {
          "name": "stdout",
          "output_type": "stream",
          "text": [
            "Epoch 2/30 | Train Loss: 1.558 | Train PPL: 4.751 | Val Loss: 1.467 | Val PPL: 4.335\n"
          ]
        },
        {
          "name": "stderr",
          "output_type": "stream",
          "text": [
            "loss 184.65512: 100%|██████████| 2620/2620 [00:42<00:00, 61.05it/s]\n",
            "val_loss 179.26059: 100%|██████████| 655/655 [00:05<00:00, 130.99it/s]\n"
          ]
        },
        {
          "name": "stdout",
          "output_type": "stream",
          "text": [
            "Epoch 3/30 | Train Loss: 1.443 | Train PPL: 4.234 | Val Loss: 1.401 | Val PPL: 4.059\n"
          ]
        },
        {
          "name": "stderr",
          "output_type": "stream",
          "text": [
            "loss 176.06218: 100%|██████████| 2620/2620 [00:43<00:00, 60.17it/s]\n",
            "val_loss 173.76856: 100%|██████████| 655/655 [00:04<00:00, 133.76it/s]\n"
          ]
        },
        {
          "name": "stdout",
          "output_type": "stream",
          "text": [
            "Epoch 4/30 | Train Loss: 1.376 | Train PPL: 3.959 | Val Loss: 1.358 | Val PPL: 3.888\n"
          ]
        },
        {
          "name": "stderr",
          "output_type": "stream",
          "text": [
            "loss 170.37346: 100%|██████████| 2620/2620 [00:41<00:00, 62.83it/s]\n",
            "val_loss 170.32915: 100%|██████████| 655/655 [00:04<00:00, 135.03it/s]\n"
          ]
        },
        {
          "name": "stdout",
          "output_type": "stream",
          "text": [
            "Epoch 5/30 | Train Loss: 1.331 | Train PPL: 3.787 | Val Loss: 1.331 | Val PPL: 3.785\n"
          ]
        },
        {
          "name": "stderr",
          "output_type": "stream",
          "text": [
            "loss 165.98482: 100%|██████████| 2620/2620 [00:41<00:00, 62.64it/s]\n",
            "val_loss 169.06971: 100%|██████████| 655/655 [00:04<00:00, 138.47it/s]\n"
          ]
        },
        {
          "name": "stdout",
          "output_type": "stream",
          "text": [
            "Epoch 6/30 | Train Loss: 1.297 | Train PPL: 3.659 | Val Loss: 1.321 | Val PPL: 3.748\n"
          ]
        },
        {
          "name": "stderr",
          "output_type": "stream",
          "text": [
            "loss 162.75179: 100%|██████████| 2620/2620 [00:40<00:00, 64.00it/s]\n",
            "val_loss 166.82512: 100%|██████████| 655/655 [00:04<00:00, 146.52it/s]\n"
          ]
        },
        {
          "name": "stdout",
          "output_type": "stream",
          "text": [
            "Epoch 7/30 | Train Loss: 1.272 | Train PPL: 3.568 | Val Loss: 1.304 | Val PPL: 3.683\n"
          ]
        },
        {
          "name": "stderr",
          "output_type": "stream",
          "text": [
            "loss 159.96658: 100%|██████████| 2620/2620 [00:41<00:00, 63.79it/s]\n",
            "val_loss 166.89374: 100%|██████████| 655/655 [00:04<00:00, 134.36it/s]\n"
          ]
        },
        {
          "name": "stdout",
          "output_type": "stream",
          "text": [
            "Epoch 8/30 | Train Loss: 1.250 | Train PPL: 3.491 | Val Loss: 1.304 | Val PPL: 3.685\n",
            "\tInfo - Current epochs without validation metric improvement 1. 4 remaining before stopping.\n"
          ]
        },
        {
          "name": "stderr",
          "output_type": "stream",
          "text": [
            "loss 157.47486: 100%|██████████| 2620/2620 [00:41<00:00, 62.98it/s]\n",
            "val_loss 165.22112: 100%|██████████| 655/655 [00:04<00:00, 135.03it/s]\n"
          ]
        },
        {
          "name": "stdout",
          "output_type": "stream",
          "text": [
            "Epoch 9/30 | Train Loss: 1.231 | Train PPL: 3.423 | Val Loss: 1.291 | Val PPL: 3.637\n"
          ]
        },
        {
          "name": "stderr",
          "output_type": "stream",
          "text": [
            "loss 155.63858: 100%|██████████| 2620/2620 [00:42<00:00, 60.93it/s]\n",
            "val_loss 163.82508: 100%|██████████| 655/655 [00:04<00:00, 143.62it/s]\n"
          ]
        },
        {
          "name": "stdout",
          "output_type": "stream",
          "text": [
            "Epoch 10/30 | Train Loss: 1.216 | Train PPL: 3.375 | Val Loss: 1.280 | Val PPL: 3.598\n"
          ]
        },
        {
          "name": "stderr",
          "output_type": "stream",
          "text": [
            "loss 153.57882: 100%|██████████| 2620/2620 [00:40<00:00, 64.98it/s]\n",
            "val_loss 164.24308: 100%|██████████| 655/655 [00:04<00:00, 140.93it/s]\n"
          ]
        },
        {
          "name": "stdout",
          "output_type": "stream",
          "text": [
            "Epoch 11/30 | Train Loss: 1.200 | Train PPL: 3.321 | Val Loss: 1.284 | Val PPL: 3.609\n",
            "\tInfo - Current epochs without validation metric improvement 1. 4 remaining before stopping.\n"
          ]
        },
        {
          "name": "stderr",
          "output_type": "stream",
          "text": [
            "loss 152.05589: 100%|██████████| 2620/2620 [00:38<00:00, 68.39it/s]\n",
            "val_loss 163.24759: 100%|██████████| 655/655 [00:04<00:00, 138.97it/s]\n"
          ]
        },
        {
          "name": "stdout",
          "output_type": "stream",
          "text": [
            "Epoch 12/30 | Train Loss: 1.188 | Train PPL: 3.282 | Val Loss: 1.276 | Val PPL: 3.581\n"
          ]
        },
        {
          "name": "stderr",
          "output_type": "stream",
          "text": [
            "loss 150.64133: 100%|██████████| 2620/2620 [00:39<00:00, 66.20it/s]\n",
            "val_loss 163.71452: 100%|██████████| 655/655 [00:04<00:00, 158.54it/s]\n"
          ]
        },
        {
          "name": "stdout",
          "output_type": "stream",
          "text": [
            "Epoch 13/30 | Train Loss: 1.177 | Train PPL: 3.245 | Val Loss: 1.279 | Val PPL: 3.594\n",
            "\tInfo - Current epochs without validation metric improvement 1. 4 remaining before stopping.\n"
          ]
        },
        {
          "name": "stderr",
          "output_type": "stream",
          "text": [
            "loss 149.43090: 100%|██████████| 2620/2620 [00:38<00:00, 67.89it/s]\n",
            "val_loss 163.47897: 100%|██████████| 655/655 [00:05<00:00, 129.69it/s]\n"
          ]
        },
        {
          "name": "stdout",
          "output_type": "stream",
          "text": [
            "Epoch 14/30 | Train Loss: 1.168 | Train PPL: 3.215 | Val Loss: 1.278 | Val PPL: 3.588\n",
            "\tInfo - Current epochs without validation metric improvement 2. 3 remaining before stopping.\n"
          ]
        },
        {
          "name": "stderr",
          "output_type": "stream",
          "text": [
            "loss 148.06405: 100%|██████████| 2620/2620 [00:38<00:00, 67.73it/s]\n",
            "val_loss 163.19351: 100%|██████████| 655/655 [00:04<00:00, 143.79it/s]\n"
          ]
        },
        {
          "name": "stdout",
          "output_type": "stream",
          "text": [
            "Epoch 15/30 | Train Loss: 1.157 | Train PPL: 3.181 | Val Loss: 1.275 | Val PPL: 3.580\n"
          ]
        },
        {
          "name": "stderr",
          "output_type": "stream",
          "text": [
            "loss 147.21325: 100%|██████████| 2620/2620 [00:36<00:00, 70.92it/s]\n",
            "val_loss 164.04516: 100%|██████████| 655/655 [00:04<00:00, 153.34it/s]\n"
          ]
        },
        {
          "name": "stdout",
          "output_type": "stream",
          "text": [
            "Epoch 16/30 | Train Loss: 1.150 | Train PPL: 3.160 | Val Loss: 1.282 | Val PPL: 3.604\n",
            "\tInfo - Current epochs without validation metric improvement 1. 4 remaining before stopping.\n"
          ]
        },
        {
          "name": "stderr",
          "output_type": "stream",
          "text": [
            "loss 146.18640: 100%|██████████| 2620/2620 [00:37<00:00, 69.58it/s]\n",
            "val_loss 164.15057: 100%|██████████| 655/655 [00:04<00:00, 143.46it/s]\n"
          ]
        },
        {
          "name": "stdout",
          "output_type": "stream",
          "text": [
            "Epoch 17/30 | Train Loss: 1.142 | Train PPL: 3.134 | Val Loss: 1.283 | Val PPL: 3.607\n",
            "\tInfo - Current epochs without validation metric improvement 2. 3 remaining before stopping.\n"
          ]
        },
        {
          "name": "stderr",
          "output_type": "stream",
          "text": [
            "loss 145.10616: 100%|██████████| 2620/2620 [00:38<00:00, 68.89it/s]\n",
            "val_loss 163.44811: 100%|██████████| 655/655 [00:04<00:00, 154.69it/s]\n"
          ]
        },
        {
          "name": "stdout",
          "output_type": "stream",
          "text": [
            "Epoch 18/30 | Train Loss: 1.134 | Train PPL: 3.108 | Val Loss: 1.277 | Val PPL: 3.587\n",
            "\tInfo - Current epochs without validation metric improvement 3. 2 remaining before stopping.\n"
          ]
        },
        {
          "name": "stderr",
          "output_type": "stream",
          "text": [
            "loss 144.03813: 100%|██████████| 2620/2620 [00:36<00:00, 72.63it/s]\n",
            "val_loss 163.67888: 100%|██████████| 655/655 [00:04<00:00, 155.57it/s]\n"
          ]
        },
        {
          "name": "stdout",
          "output_type": "stream",
          "text": [
            "Epoch 19/30 | Train Loss: 1.126 | Train PPL: 3.082 | Val Loss: 1.279 | Val PPL: 3.593\n",
            "\tInfo - Current epochs without validation metric improvement 4. 1 remaining before stopping.\n"
          ]
        },
        {
          "name": "stderr",
          "output_type": "stream",
          "text": [
            "loss 143.19826: 100%|██████████| 2620/2620 [00:37<00:00, 70.49it/s]\n",
            "val_loss 163.76241: 100%|██████████| 655/655 [00:04<00:00, 143.00it/s]"
          ]
        },
        {
          "name": "stdout",
          "output_type": "stream",
          "text": [
            "Epoch 20/30 | Train Loss: 1.119 | Train PPL: 3.062 | Val Loss: 1.280 | Val PPL: 3.596\n",
            "\tInfo - Training interrupted due to early stopping condition.\n"
          ]
        },
        {
          "name": "stderr",
          "output_type": "stream",
          "text": [
            "\n"
          ]
        },
        {
          "data": {
            "text/plain": [
              "<All keys matched successfully>"
            ]
          },
          "execution_count": 24,
          "metadata": {},
          "output_type": "execute_result"
        }
      ],
      "source": [
        "from tqdm import tqdm\n",
        "\n",
        "epochs = 30\n",
        "patience = 5\n",
        "patience_factor = 0.0001\n",
        "model_file = 'best_model.pt'\n",
        "\n",
        "# Historial de métricas\n",
        "history = {\n",
        "    \"train_loss\": [],\n",
        "    \"val_loss\": [],\n",
        "    \"train_ppl\": [],\n",
        "    \"val_ppl\": [],\n",
        "    \"val_acc\": []\n",
        "}\n",
        "pt_epoch = 0\n",
        "best_model = 999999999\n",
        "# Set metric for callbacks\n",
        "best_eval = 999999999\n",
        "\n",
        "# enviamos el modelo al device\n",
        "model.to(device)\n",
        "\n",
        "for epoch in range(epochs):\n",
        "    # --- Entrenamiento ---\n",
        "    model.train()\n",
        "    train_loss = 0\n",
        "\n",
        "    bar = tqdm(train_loader)\n",
        "    for i, batch in enumerate(bar):\n",
        "        optimizer.zero_grad()\n",
        "\n",
        "        xb, yb = batch\n",
        "        xb, yb = xb.to(device), yb.to(device) # lo enviamos al device\n",
        "        y_pred = model(xb)  # => (batch, vocab_size+1)\n",
        "        loss = criterion(y_pred, yb)\n",
        "        loss.backward()\n",
        "        optimizer.step()\n",
        "        train_loss += loss.item() * xb.size(0)\n",
        "        # seteo descriptores en la barra\n",
        "        bar.set_description(f\"loss {train_loss/(i+1):.5f}\")\n",
        "\n",
        "    avg_train_loss = train_loss / len(train_ds)\n",
        "    train_ppl = perplexity(avg_train_loss)\n",
        "\n",
        "    # --- Validación ---\n",
        "    model.eval()\n",
        "    val_loss = 0\n",
        "    correct = 0\n",
        "    total = 0\n",
        "\n",
        "    with torch.no_grad():\n",
        "        bar = tqdm(val_loader)\n",
        "        for i, batch in enumerate(bar):\n",
        "            xb, yb = batch\n",
        "            xb, yb = xb.to(device), yb.to(device)\n",
        "            y_pred = model(xb)\n",
        "            loss = criterion(y_pred, yb)\n",
        "            val_loss += loss.item() * xb.size(0)\n",
        "\n",
        "            preds = y_pred.argmax(dim=1) # Me quedo con la clase de mayor probabilidad\n",
        "            correct += (preds == yb).sum().item()\n",
        "            total += yb.size(0)\n",
        "            bar.set_description(f\"val_loss {val_loss/(i+1):.5f}\")\n",
        "\n",
        "    avg_val_loss = val_loss / len(val_ds)\n",
        "    val_ppl = perplexity(avg_val_loss)\n",
        "    val_acc = correct / total\n",
        "\n",
        "    # Guardar métricas\n",
        "    history[\"train_loss\"].append(avg_train_loss)\n",
        "    history[\"val_loss\"].append(avg_val_loss)\n",
        "    history[\"train_ppl\"].append(train_ppl)\n",
        "    history[\"val_ppl\"].append(val_ppl)\n",
        "    history[\"val_acc\"].append(val_acc)\n",
        "\n",
        "    print(f\"Epoch {epoch+1}/{epochs} | \"\n",
        "          f\"Train Loss: {avg_train_loss:.3f} | Train PPL: {train_ppl:.3f} | \"\n",
        "          f\"Val Loss: {avg_val_loss:.3f} | Val PPL: {val_ppl:.3f}\"\n",
        "          )\n",
        "    \n",
        "    if val_ppl<best_model:\n",
        "        # Guardo el mejor modelo\n",
        "        torch.save(model.state_dict(), model_file)\n",
        "        best_model = val_ppl\n",
        "    ## Early stopping\n",
        "    if val_ppl<=best_eval*(1-patience_factor):\n",
        "        best_eval = val_ppl\n",
        "        pt_epoch = 0\n",
        "    else:\n",
        "        pt_epoch += 1\n",
        "        if pt_epoch>=patience:\n",
        "            print(f\"\\tInfo - Training interrupted due to early stopping condition.\")\n",
        "            break\n",
        "        else:\n",
        "            print(f\"\\tInfo - Current epochs without validation metric improvement {pt_epoch}. {patience-pt_epoch} remaining before stopping.\")\n",
        "\n",
        "# Al finalizar, cargo el mejor modelo\n",
        "model.load_state_dict(torch.load(model_file))"
      ]
    },
    {
      "cell_type": "markdown",
      "metadata": {
        "id": "8HBZIwR0gruA"
      },
      "source": [
        "### Gráfico de épocas vs perplejidad"
      ]
    },
    {
      "cell_type": "code",
      "execution_count": 25,
      "metadata": {},
      "outputs": [
        {
          "data": {
            "image/png": "[encoded data removed]",
            "text/plain": [
              "<Figure size 640x480 with 1 Axes>"
            ]
          },
          "metadata": {},
          "output_type": "display_data"
        }
      ],
      "source": [
        "import matplotlib.pyplot as plt\n",
        "\n",
        "plt.plot(history[\"train_ppl\"], label=\"Train PPL\")\n",
        "plt.plot(history[\"val_ppl\"], label=\"Val PPL\")\n",
        "plt.xlabel(\"Epoch\")\n",
        "plt.ylabel(\"Perplexity\")\n",
        "plt.legend()\n",
        "plt.show()\n"
      ]
    },
    {
      "cell_type": "markdown",
      "metadata": {
        "id": "KN6Fg_BsxJe6"
      },
      "source": [
        "\n",
        "### Predicción del próximo caracter"
      ]
    },
    {
      "cell_type": "code",
      "execution_count": 26,
      "metadata": {
        "id": "_vovn9XZW1Hl"
      },
      "outputs": [],
      "source": [
        "# funcionalidades para hacer encoding y decoding\n",
        "def encode(text,max_length=max_context_size):\n",
        "    # Encodeamos\n",
        "    encoded = [char2idx[ch] for ch in text.lower()]\n",
        "    # Si tienen distinto largo\n",
        "    if len(encoded) < max_length: # Hago padding hasta max_len\n",
        "        encoded = [0] * (max_length - len(encoded)) + encoded\n",
        "    else: # O me quedo con los últimos max_len caracteres\n",
        "        encoded = encoded[-max_length:]\n",
        "   \n",
        "    return encoded\n",
        "\n",
        "def decode(idx):\n",
        "    return idx2char[idx]"
      ]
    },
    {
      "cell_type": "code",
      "execution_count": 27,
      "metadata": {},
      "outputs": [],
      "source": [
        "def predict_next_char(model, human_text, max_len, device=\"cpu\"):\n",
        "    model.eval()\n",
        "    # Encodeamos\n",
        "    encoded = encode(human_text,max_length=max_len)\n",
        "\n",
        "    x = torch.as_tensor([encoded], dtype=torch.long, device=device)\n",
        "\n",
        "    with torch.no_grad():\n",
        "        y_hat = model.predict(x)  # (1, vocab_size+1)\n",
        "        idx = y_hat.argmax().item()\n",
        "\n",
        "        # Debemos buscar en el vocabulario el caracter\n",
        "        # que corresponde al indice (y_hat) predicho por le modelo\n",
        "        out_char = decode(idx)\n",
        "\n",
        "    return out_char"
      ]
    },
    {
      "cell_type": "code",
      "execution_count": 28,
      "metadata": {},
      "outputs": [
        {
          "data": {
            "text/plain": [
              "'g'"
            ]
          },
          "execution_count": 28,
          "metadata": {},
          "output_type": "execute_result"
        }
      ],
      "source": [
        "predict_next_char(model, 'Godalmin', max_len=max_context_size, device=device)"
      ]
    },
    {
      "cell_type": "markdown",
      "metadata": {
        "id": "mCeMWWupxN1-"
      },
      "source": [
        "### Generación de secuencias"
      ]
    },
    {
      "cell_type": "code",
      "execution_count": 29,
      "metadata": {
        "id": "bwbS_pfhxvB3"
      },
      "outputs": [],
      "source": [
        "def generate_seq_greedy(model, seed_text, max_length, n_chars, device=\"cpu\"):\n",
        "    \"\"\"\n",
        "        Exec model sequence prediction\n",
        "\n",
        "        Args:\n",
        "            model: modelo entrenado\n",
        "            seed_text (string): texto de entrada (input_seq)\n",
        "            max_length (int): máxima longitud de la sequencia de entrada\n",
        "            n_chars (int): números de caracteres a agregar a la sequencia de entrada\n",
        "        returns:\n",
        "            output_text (string): sentencia con las \"n_chars\" agregadas\n",
        "    \"\"\"\n",
        "    output_text = seed_text\n",
        "\t# genero n_chars caracteres\n",
        "    for _ in range(n_chars):\n",
        "        c = predict_next_char(model, output_text, max_length, device=device)\n",
        "\t\t# Agrego el caracter a la frase predicha\n",
        "        output_text += c\n",
        "    return output_text"
      ]
    },
    {
      "cell_type": "code",
      "execution_count": 30,
      "metadata": {
        "id": "JoFqRC5pxzqS"
      },
      "outputs": [
        {
          "data": {
            "text/plain": [
              "'It was on the dark side of twilight when we got to be all the same things and the '"
            ]
          },
          "execution_count": 30,
          "metadata": {},
          "output_type": "execute_result"
        }
      ],
      "source": [
        "input_text='It was on the dark side of twilight when we got to b'\n",
        "generate_seq_greedy(model, input_text, max_length=max_context_size, n_chars=30, device=device)"
      ]
    },
    {
      "cell_type": "code",
      "execution_count": 38,
      "metadata": {},
      "outputs": [
        {
          "data": {
            "text/plain": [
              "'that was arthur had been so so'"
            ]
          },
          "execution_count": 38,
          "metadata": {},
          "output_type": "execute_result"
        }
      ],
      "source": [
        "input_text='that was arthur'\n",
        "generate_seq_greedy(model, input_text, max_length=max_context_size, n_chars=15, device=device)"
      ]
    },
    {
      "cell_type": "code",
      "execution_count": null,
      "metadata": {},
      "outputs": [
        {
          "data": {
            "text/plain": [
              "'late in the count in the strange things of the same '"
            ]
          },
          "execution_count": 65,
          "metadata": {},
          "output_type": "execute_result"
        }
      ],
      "source": [
        "input_text='la'\n",
        "generate_seq_greedy(model, input_text, max_length=max_context_size, n_chars=30, device=device)"
      ]
    },
    {
      "cell_type": "code",
      "execution_count": 68,
      "metadata": {},
      "outputs": [
        {
          "data": {
            "text/plain": [
              "'near the correct of the strange things of the '"
            ]
          },
          "execution_count": 68,
          "metadata": {},
          "output_type": "execute_result"
        }
      ],
      "source": [
        "input_text='near the correct'\n",
        "generate_seq_greedy(model, input_text, max_length=max_context_size, n_chars=30, device=device)"
      ]
    },
    {
      "cell_type": "markdown",
      "metadata": {
        "id": "drJ6xn5qW1Hl"
      },
      "source": [
        "###  Beam search y muestreo aleatorio"
      ]
    },
    {
      "cell_type": "code",
      "execution_count": 41,
      "metadata": {
        "id": "I_lZiQwkW1Hl"
      },
      "outputs": [],
      "source": [
        "from scipy.special import softmax\n",
        "\n",
        "# función que selecciona candidatos para el beam search\n",
        "def select_candidates(pred,num_beams,vocab_size,history_probs,history_tokens,temp,mode):\n",
        "\n",
        "  # colectar todas las probabilidades para la siguiente búsqueda\n",
        "  pred_large = []\n",
        "  for idx,pp in enumerate(pred):\n",
        "    pred_large.extend(np.log(pp+1E-10)+history_probs[idx])\n",
        "\n",
        "  pred_large = np.array(pred_large)\n",
        "\n",
        "  # criterio de selección\n",
        "  if mode == 'det':\n",
        "    idx_select = np.argsort(pred_large)[::-1][:num_beams] # beam search determinista\n",
        "  elif mode == 'sto':\n",
        "    idx_select = np.random.choice(np.arange(pred_large.shape[0]), num_beams, p=softmax(pred_large/temp)) # beam search con muestreo aleatorio\n",
        "  else:\n",
        "    raise ValueError(f'Wrong selection mode. {mode} was given. det and sto are supported.')\n",
        "\n",
        "  # traducir a índices de token en el vocabulario\n",
        "  new_history_tokens = np.concatenate((np.array(history_tokens)[idx_select//vocab_size],\n",
        "                        np.array([idx_select%vocab_size]).T),\n",
        "                      axis=1)\n",
        "\n",
        "  # devolver el producto de las probabilidades (log) y la secuencia de tokens seleccionados\n",
        "  return pred_large[idx_select.astype(int)], new_history_tokens.astype(int)\n",
        "\n",
        "\n",
        "def beam_search(model,num_beams,num_words,input,temp=1.,mode='det'):\n",
        "\n",
        "    # first iteration\n",
        "\n",
        "    # encode\n",
        "    encoded = encode(input)\n",
        "    x = torch.as_tensor([encoded], dtype=torch.long, device=device)\n",
        "\n",
        "    with torch.no_grad():\n",
        "      # first prediction\n",
        "      y_hat = model.predict(x).cpu()[0] # (1, vocab_size+1) => (vocab_size+1)\n",
        "\n",
        "      # get vocabulary size\n",
        "      vocab_size = y_hat.shape[0]\n",
        "\n",
        "      # initialize history\n",
        "      history_probs = [0]*num_beams\n",
        "      history_tokens = [encoded]*num_beams # 10 beams, 100 (max_context_size)\n",
        "      # select num_beams candidates\n",
        "      history_probs, history_tokens = select_candidates([y_hat], num_beams, vocab_size, history_probs,\n",
        "                                                        history_tokens, temp, mode)\n",
        "      # beam search loop\n",
        "      for i in range(num_words-1):\n",
        "\n",
        "        preds = []\n",
        "\n",
        "        for hist in history_tokens:\n",
        "\n",
        "          # actualizar secuencia de tokens\n",
        "          input_update = np.array([hist[i+1:]]).copy()\n",
        "          # predicción\n",
        "          x = torch.as_tensor(input_update, dtype=torch.long, device=device)\n",
        "          y_hat = model.predict(x).cpu()[0] # (1, vocab_size+1) => (vocab_size+1)\n",
        "\n",
        "          preds.append(y_hat)\n",
        "\n",
        "        history_probs, history_tokens = select_candidates(preds, num_beams, vocab_size, history_probs, history_tokens, temp, mode)\n",
        "\n",
        "    return history_tokens[:,-(len(input)+num_words):]"
      ]
    },
    {
      "cell_type": "code",
      "execution_count": 69,
      "metadata": {
        "id": "GeLqAoOYW1Hm"
      },
      "outputs": [
        {
          "name": "stdout",
          "output_type": "stream",
          "text": [
            "[ 6 41 45 21 45 49 62 40 62 11 48 66 11 12 66 65 62  5 35 11 50 62 11 27\n",
            " 23 45 68 43  9  9 11 60  4 66 24 11 65 24 27 48 11 50 23 21 62 11 48]\n",
            "privilege to come.” he said:-- “you must have t\n"
          ]
        }
      ],
      "source": [
        "# predicción con beam search\n",
        "salidas = beam_search(model,num_beams=10,num_words=30,input=\"privilege to come\", mode='det')\n",
        "print(salidas[0])\n",
        "print(''.join(decode(ch) for ch in salidas[0]))"
      ]
    },
    {
      "cell_type": "code",
      "execution_count": 71,
      "metadata": {},
      "outputs": [
        {
          "name": "stdout",
          "output_type": "stream",
          "text": [
            "[ 6 41 45 21 45 49 62 40 62 11 48 66 11 12 66 65 62 11 48 66 11 48 50 62\n",
            " 11 49 23 48 48 62 41  2 11 23 64 68 11 45 11 59 64 66 19 11 48 50 23]\n",
            "privilege to come to the latter, and i know tha\n"
          ]
        }
      ],
      "source": [
        "# predicción con beam search\n",
        "salidas = beam_search(model,num_beams=10,num_words=30,input=\"privilege to come\", mode='sto', temp=1)\n",
        "print(salidas[0])\n",
        "print(''.join(decode(ch) for ch in salidas[0]))"
      ]
    },
    {
      "cell_type": "code",
      "execution_count": 73,
      "metadata": {
        "id": "P8HQoLhw-NYg"
      },
      "outputs": [
        {
          "name": "stdout",
          "output_type": "stream",
          "text": [
            "[ 6 41 45 21 45 49 62 40 62 11 48 66 11 12 66 65 62 11 48 66 11 48 50 62\n",
            " 11 19 45 64 68 66 19  2 11 23 64 68 11 48 50 62 41 62 11 45 27 11 64]\n",
            "privilege to come to the window, and there is n\n"
          ]
        }
      ],
      "source": [
        "# predicción con beam search\n",
        "salidas = beam_search(model,num_beams=10,num_words=30,input=\"privilege to come\", mode='sto', temp=0.5)\n",
        "print(salidas[0])\n",
        "print(''.join(decode(ch) for ch in salidas[0]))"
      ]
    },
    {
      "cell_type": "code",
      "execution_count": 75,
      "metadata": {
        "id": "2S3_I3S1W1Hm"
      },
      "outputs": [
        {
          "name": "stdout",
          "output_type": "stream",
          "text": [
            "[ 6 41 45 21 45 49 62 40 62 11 48 66 11 12 66 65 62 11 48 66 11 48 50 62\n",
            " 11 12 66 24 64 48  2 11 23 64 68 11 48 50 62 11 12 66 24 64 48 11 45]\n",
            "privilege to come to the count, and the count i\n"
          ]
        }
      ],
      "source": [
        "# predicción con beam search\n",
        "salidas = beam_search(model,num_beams=10,num_words=30,input=\"privilege to come\", mode='sto', temp=0.2)\n",
        "print(salidas[0])\n",
        "print(''.join(decode(ch) for ch in salidas[0]))"
      ]
    },
    {
      "cell_type": "code",
      "execution_count": 39,
      "metadata": {},
      "outputs": [
        {
          "name": "stdout",
          "output_type": "stream",
          "text": [
            "[37 24 48 11 66 64 49  4 11 48 66 11 59 64 66 19 11 48 50 23 48 11  4 66\n",
            " 24 11 50 23 21 62 11 37 62 62 64 11 27 66 65 62 48 50 45 64 40 11]\n",
            "but only to know that you have been something \n"
          ]
        }
      ],
      "source": [
        "# predicción con beam search\n",
        "salidas = beam_search(model,num_beams=10,num_words=30,input=\"but only to know\", mode='det')\n",
        "print(salidas[0])\n",
        "print(''.join(decode(ch) for ch in salidas[0]))"
      ]
    },
    {
      "cell_type": "code",
      "execution_count": 40,
      "metadata": {},
      "outputs": [
        {
          "name": "stdout",
          "output_type": "stream",
          "text": [
            "[48 50 23 48 11 19 62 11 23 41 62 11 45 64 11 26 66 41 11 23 11 27 48 66\n",
            " 41 65  2 11 23 64 68 11 48 50 62 41 62 11 45 27 11 64 66 11 27 66 24 64\n",
            " 68 11 48 50 23 48 11 45]\n",
            "that we are in for a storm, and there is no sound that i\n"
          ]
        }
      ],
      "source": [
        "# predicción con beam search\n",
        "salidas = beam_search(model,num_beams=10,num_words=30,input=\"that we are in for a storm\", mode='sto', temp=0.5)\n",
        "print(salidas[0])\n",
        "print(''.join(decode(ch) for ch in salidas[0]))"
      ]
    },
    {
      "cell_type": "markdown",
      "metadata": {},
      "source": [
        "### Conclusiones\n",
        "\n",
        "En la prueba greedy, el modelo de predicción de caracteres termina armando palabras que parecen tener sentido, no tanto asi las oraciones que forma.  \n",
        "En ocasiones, cuando se pide una cantidad de caracteres elevadas, parece entrar en un circulo donde se repiten los caracteres.  \n",
        "También da la sensación de que tiene letras y secuencias que se repiten más. (ej. las secuencias strange, things y so aparecieron muchas veces)\n",
        "\n",
        "En las pruebas beam search, tanto en determinístico como en estocástico los caracteres formaron palabras existentes, igual que en el caso anterior, el sentido de la oración puede no ser del todo bueno.  \n",
        "En el estocástico, con una temperatura alta hay más variedad de resultados, al bajar la temperatura, los resultados que ofrece se repiten, incluso en la temperatura más baja, solo ofrece un par de resultados distintos.  \n",
        "También parece que hay secuencias de caracteres que tiende a devolver con mayor frecuencia.\n",
        "\n",
        "Es destacable que no vimos casi palabras desconocidas, aunque en el primer ejemplo determinístico, devolvió varios simbolos como predicciones, algunos que podrían ser correctos, otros que no tanto."
      ]
    }
  ],
  "metadata": {
    "accelerator": "GPU",
    "colab": {
      "gpuType": "T4",
      "provenance": []
    },
    "kernelspec": {
      "display_name": "B3_AP",
      "language": "python",
      "name": "python3"
    },
    "language_info": {
      "codemirror_mode": {
        "name": "ipython",
        "version": 3
      },
      "file_extension": ".py",
      "mimetype": "text/x-python",
      "name": "python",
      "nbconvert_exporter": "python",
      "pygments_lexer": "ipython3",
      "version": "3.11.13"
    }
  },
  "nbformat": 4,
  "nbformat_minor": 0
}
