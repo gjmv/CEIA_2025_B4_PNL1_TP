{
 "cells": [
  {
   "cell_type": "markdown",
   "metadata": {},
   "source": [
    "### Consigna del desafío 2"
   ]
  },
  {
   "cell_type": "markdown",
   "metadata": {},
   "source": [
    "- Crear sus propios vectores con Gensim basado en lo visto en clase con otro dataset.\n",
    "- Probar términos de interés y explicar similitudes en el espacio de embeddings (sacar conclusiones entre palabras similitudes y diferencias).\n",
    "- Graficarlos.\n",
    "- Obtener conclusiones.\n"
   ]
  },
  {
   "cell_type": "markdown",
   "metadata": {
    "id": "vA7nqkumo9z9"
   },
   "source": [
    "### Objetivo\n",
    "El objetivo es utilizar documentos / corpus para crear embeddings de palabras basado en ese contexto.  \n",
    "Se utilizará el epub de Drácula para generar los embeddings, es decir, que los vectores tendrán la forma en función de las líneas del libro."
   ]
  },
  {
   "cell_type": "code",
   "execution_count": 1,
   "metadata": {
    "id": "lFToQs5FK5uZ"
   },
   "outputs": [],
   "source": [
    "import pandas as pd\n",
    "import os\n",
    "import requests \n",
    "from gensim.models import Word2Vec"
   ]
  },
  {
   "cell_type": "markdown",
   "metadata": {
    "id": "g07zJxG7H9vG"
   },
   "source": [
    "### Datos\n",
    "Utilizo como dataset el epub de Drácula"
   ]
  },
  {
   "cell_type": "code",
   "execution_count": 2,
   "metadata": {},
   "outputs": [],
   "source": [
    "# Funcion auxiliar para descargar el dataset\n",
    "def download_dataset(dataset_url: str, target_filename: str, force: bool = False):\n",
    "    if os.path.exists(target_filename) and not force:\n",
    "        print(\"Dataset folder already exists, nothing downloaded.\")\n",
    "        return\n",
    "\n",
    "    os.makedirs(os.path.dirname(target_filename), exist_ok=True)\n",
    "    try:\n",
    "        with requests.get(dataset_url, stream=True) as response:\n",
    "            response.raise_for_status()  # Raise an exception for bad status codes\n",
    "\n",
    "            with open(target_filename, 'wb') as f:\n",
    "                for chunk in response.iter_content(chunk_size=8192):\n",
    "                    f.write(chunk)\n",
    "        print(f\"File '{target_filename}' downloaded successfully.\")\n",
    "    except requests.exceptions.RequestException as e:\n",
    "        raise(Exception(f\"Error downloading file: {e}\"))"
   ]
  },
  {
   "cell_type": "code",
   "execution_count": 21,
   "metadata": {
    "id": "l7z4CSBfpR3X"
   },
   "outputs": [
    {
     "name": "stdout",
     "output_type": "stream",
     "text": [
      "File 'datasets/dracula.txt' downloaded successfully.\n"
     ]
    }
   ],
   "source": [
    "# Descargar el dataset\n",
    "dataset = \"datasets/dracula.txt\"\n",
    "download_dataset(\"https://www.gutenberg.org/cache/epub/345/pg345.txt\", dataset)"
   ]
  },
  {
   "cell_type": "code",
   "execution_count": 4,
   "metadata": {
    "id": "ticoqYD1Z3I7"
   },
   "outputs": [
    {
     "data": {
      "text/html": [
       "<div>\n",
       "<style scoped>\n",
       "    .dataframe tbody tr th:only-of-type {\n",
       "        vertical-align: middle;\n",
       "    }\n",
       "\n",
       "    .dataframe tbody tr th {\n",
       "        vertical-align: top;\n",
       "    }\n",
       "\n",
       "    .dataframe thead th {\n",
       "        text-align: right;\n",
       "    }\n",
       "</style>\n",
       "<table border=\"1\" class=\"dataframe\">\n",
       "  <thead>\n",
       "    <tr style=\"text-align: right;\">\n",
       "      <th></th>\n",
       "      <th>0</th>\n",
       "    </tr>\n",
       "  </thead>\n",
       "  <tbody>\n",
       "    <tr>\n",
       "      <th>0</th>\n",
       "      <td>The Project Gutenberg eBook of Dracula</td>\n",
       "    </tr>\n",
       "    <tr>\n",
       "      <th>1</th>\n",
       "      <td>This ebook is for the use of anyone anywhere i...</td>\n",
       "    </tr>\n",
       "    <tr>\n",
       "      <th>2</th>\n",
       "      <td>most other parts of the world at no cost and w...</td>\n",
       "    </tr>\n",
       "    <tr>\n",
       "      <th>3</th>\n",
       "      <td>whatsoever. You may copy it, give it away or r...</td>\n",
       "    </tr>\n",
       "    <tr>\n",
       "      <th>4</th>\n",
       "      <td>of the Project Gutenberg License included with...</td>\n",
       "    </tr>\n",
       "  </tbody>\n",
       "</table>\n",
       "</div>"
      ],
      "text/plain": [
       "                                                   0\n",
       "0             The Project Gutenberg eBook of Dracula\n",
       "1  This ebook is for the use of anyone anywhere i...\n",
       "2  most other parts of the world at no cost and w...\n",
       "3  whatsoever. You may copy it, give it away or r...\n",
       "4  of the Project Gutenberg License included with..."
      ]
     },
     "execution_count": 4,
     "metadata": {},
     "output_type": "execute_result"
    }
   ],
   "source": [
    "# Armar el dataset utilizando salto de línea para separar las oraciones/docs\n",
    "df = pd.read_csv(dataset, sep='/n', header=None, engine=\"python\")\n",
    "df.head()"
   ]
  },
  {
   "cell_type": "code",
   "execution_count": 5,
   "metadata": {
    "id": "LEpKubK9XzXN"
   },
   "outputs": [
    {
     "name": "stdout",
     "output_type": "stream",
     "text": [
      "Cantidad de documentos: 13373\n"
     ]
    }
   ],
   "source": [
    "print(\"Cantidad de documentos:\", df.shape[0])"
   ]
  },
  {
   "cell_type": "markdown",
   "metadata": {
    "id": "ab94qaFlrA1G"
   },
   "source": [
    "### 1 - Preprocesamiento"
   ]
  },
  {
   "cell_type": "code",
   "execution_count": 6,
   "metadata": {
    "id": "rIsmMWmjrDHd"
   },
   "outputs": [],
   "source": [
    "import spacy\n",
    "\n",
    "nlp = spacy.load(\"en_core_web_sm\")\n",
    "sentence_tokens = []\n",
    "for _, row in df[:None].iterrows():\n",
    "    # Agrego como preprocesamiento que convierta todas las palabras a minúsculas\n",
    "    doc = nlp(row[0].lower())\n",
    "    sentence_tokens.append([token.text for token in doc])"
   ]
  },
  {
   "cell_type": "code",
   "execution_count": 7,
   "metadata": {
    "id": "CHepi_DGrbhq"
   },
   "outputs": [
    {
     "name": "stdout",
     "output_type": "stream",
     "text": [
      "[['the', 'project', 'gutenberg', 'ebook', 'of', 'dracula'], ['this', 'ebook', 'is', 'for', 'the', 'use', 'of', 'anyone', 'anywhere', 'in', 'the', 'united', 'states', 'and'], ['most', 'other', 'parts', 'of', 'the', 'world', 'at', 'no', 'cost', 'and', 'with', 'almost', 'no', 'restrictions'], ['whatsoever', '.', 'you', 'may', 'copy', 'it', ',', 'give', 'it', 'away', 'or', 're', '-', 'use', 'it', 'under', 'the', 'terms'], ['of', 'the', 'project', 'gutenberg', 'license', 'included', 'with', 'this', 'ebook', 'or', 'online']]\n",
      "Sentence tokens totales: 13373\n"
     ]
    }
   ],
   "source": [
    "# Demos un vistazo\n",
    "print(sentence_tokens[:5])\n",
    "print(f\"Sentence tokens totales: {len(sentence_tokens)}\")"
   ]
  },
  {
   "cell_type": "markdown",
   "metadata": {
    "id": "BaXV6nlHr5Aa"
   },
   "source": [
    "### 2 - Crear los vectores (word2vec)"
   ]
  },
  {
   "cell_type": "code",
   "execution_count": 8,
   "metadata": {
    "id": "OSb0v7h8r7hK"
   },
   "outputs": [],
   "source": [
    "from gensim.models.callbacks import CallbackAny2Vec\n",
    "# Durante el entrenamiento gensim por defecto no informa el \"loss\" en cada época\n",
    "# Sobrecargamos el callback para poder tener esta información\n",
    "class callback(CallbackAny2Vec):\n",
    "    \"\"\"\n",
    "    Callback to print loss after each epoch\n",
    "    \"\"\"\n",
    "    def __init__(self):\n",
    "        self.epoch = 0\n",
    "\n",
    "    def on_epoch_end(self, model):\n",
    "        loss = model.get_latest_training_loss()\n",
    "        if self.epoch == 0:\n",
    "            print('Loss after epoch {}: {}'.format(self.epoch, loss))\n",
    "        else:\n",
    "            print('Loss after epoch {}: {}'.format(self.epoch, loss- self.loss_previous_step))\n",
    "        self.epoch += 1\n",
    "        self.loss_previous_step = loss"
   ]
  },
  {
   "cell_type": "code",
   "execution_count": 9,
   "metadata": {
    "id": "i0wnDdv9sJ47"
   },
   "outputs": [],
   "source": [
    "# Crearmos el modelo generador de vectores\n",
    "# En este caso utilizaremos la estructura modelo Skipgram\n",
    "w2v_model = Word2Vec(min_count=5,    # frecuencia mínima de palabra para incluirla en el vocabulario\n",
    "                     window=2,       # cant de palabras antes y desp de la predicha\n",
    "                     vector_size=100,       # dimensionalidad de los vectores \n",
    "                     negative=20,    # cantidad de negative samples... 0 es no se usa\n",
    "                     workers=1,      # si tienen más cores pueden cambiar este valor\n",
    "                     sg=1,           # modelo 0:CBOW  1:skipgram\n",
    "                     seed=42)"
   ]
  },
  {
   "cell_type": "code",
   "execution_count": 10,
   "metadata": {
    "id": "5lTt8wErsf17"
   },
   "outputs": [],
   "source": [
    "# Obtener el vocabulario con los tokens\n",
    "w2v_model.build_vocab(sentence_tokens)"
   ]
  },
  {
   "cell_type": "code",
   "execution_count": 11,
   "metadata": {
    "id": "TNc9qt4os5AT"
   },
   "outputs": [
    {
     "name": "stdout",
     "output_type": "stream",
     "text": [
      "Cantidad de docs en el corpus: 13373\n"
     ]
    }
   ],
   "source": [
    "# Cantidad de filas/docs encontradas en el corpus\n",
    "print(\"Cantidad de docs en el corpus:\", w2v_model.corpus_count)"
   ]
  },
  {
   "cell_type": "code",
   "execution_count": 12,
   "metadata": {
    "id": "idw9cHF3tSMl"
   },
   "outputs": [
    {
     "name": "stdout",
     "output_type": "stream",
     "text": [
      "Cantidad de words distintas en el corpus: 2523\n"
     ]
    }
   ],
   "source": [
    "# Cantidad de words encontradas en el corpus\n",
    "print(\"Cantidad de words distintas en el corpus:\", len(w2v_model.wv.index_to_key))"
   ]
  },
  {
   "cell_type": "markdown",
   "metadata": {
    "id": "fC9mZ8DPk-UC"
   },
   "source": [
    "### 3 - Entrenar embeddings"
   ]
  },
  {
   "cell_type": "code",
   "execution_count": 13,
   "metadata": {
    "id": "QSp-x0PAsq56"
   },
   "outputs": [
    {
     "name": "stdout",
     "output_type": "stream",
     "text": [
      "Loss after epoch 0: 1358544.0\n",
      "Loss after epoch 1: 1004671.25\n",
      "Loss after epoch 2: 905189.75\n",
      "Loss after epoch 3: 903380.75\n",
      "Loss after epoch 4: 838546.75\n",
      "Loss after epoch 5: 831034.0\n",
      "Loss after epoch 6: 825068.0\n",
      "Loss after epoch 7: 821244.5\n",
      "Loss after epoch 8: 814963.0\n",
      "Loss after epoch 9: 779518.0\n",
      "Loss after epoch 10: 769732.0\n",
      "Loss after epoch 11: 766161.0\n",
      "Loss after epoch 12: 759601.0\n",
      "Loss after epoch 13: 759558.0\n",
      "Loss after epoch 14: 753447.0\n",
      "Loss after epoch 15: 750565.0\n",
      "Loss after epoch 16: 748332.0\n",
      "Loss after epoch 17: 742732.0\n",
      "Loss after epoch 18: 740033.0\n",
      "Loss after epoch 19: 740677.0\n",
      "Loss after epoch 20: 719230.0\n",
      "Loss after epoch 21: 706706.0\n",
      "Loss after epoch 22: 705298.0\n",
      "Loss after epoch 23: 701392.0\n",
      "Loss after epoch 24: 702912.0\n",
      "Loss after epoch 25: 702628.0\n",
      "Loss after epoch 26: 698680.0\n",
      "Loss after epoch 27: 696498.0\n",
      "Loss after epoch 28: 695136.0\n",
      "Loss after epoch 29: 693076.0\n",
      "Loss after epoch 30: 690884.0\n",
      "Loss after epoch 31: 686020.0\n",
      "Loss after epoch 32: 687714.0\n",
      "Loss after epoch 33: 683432.0\n",
      "Loss after epoch 34: 683770.0\n",
      "Loss after epoch 35: 682036.0\n",
      "Loss after epoch 36: 679768.0\n",
      "Loss after epoch 37: 678664.0\n",
      "Loss after epoch 38: 678178.0\n",
      "Loss after epoch 39: 677820.0\n",
      "Loss after epoch 40: 678394.0\n",
      "Loss after epoch 41: 674164.0\n",
      "Loss after epoch 42: 672948.0\n",
      "Loss after epoch 43: 671970.0\n",
      "Loss after epoch 44: 678416.0\n",
      "Loss after epoch 45: 689100.0\n",
      "Loss after epoch 46: 685608.0\n",
      "Loss after epoch 47: 687996.0\n",
      "Loss after epoch 48: 685444.0\n",
      "Loss after epoch 49: 684032.0\n",
      "Loss after epoch 50: 683144.0\n",
      "Loss after epoch 51: 684280.0\n",
      "Loss after epoch 52: 684544.0\n",
      "Loss after epoch 53: 681044.0\n",
      "Loss after epoch 54: 681972.0\n",
      "Loss after epoch 55: 679888.0\n",
      "Loss after epoch 56: 678840.0\n",
      "Loss after epoch 57: 675244.0\n",
      "Loss after epoch 58: 676468.0\n",
      "Loss after epoch 59: 678524.0\n",
      "Loss after epoch 60: 682360.0\n",
      "Loss after epoch 61: 679540.0\n",
      "Loss after epoch 62: 678080.0\n",
      "Loss after epoch 63: 676744.0\n",
      "Loss after epoch 64: 671048.0\n",
      "Loss after epoch 65: 672908.0\n",
      "Loss after epoch 66: 674300.0\n",
      "Loss after epoch 67: 672636.0\n",
      "Loss after epoch 68: 671548.0\n",
      "Loss after epoch 69: 672000.0\n",
      "Loss after epoch 70: 671840.0\n",
      "Loss after epoch 71: 666808.0\n",
      "Loss after epoch 72: 669732.0\n",
      "Loss after epoch 73: 668364.0\n",
      "Loss after epoch 74: 668656.0\n",
      "Loss after epoch 75: 671308.0\n",
      "Loss after epoch 76: 670180.0\n",
      "Loss after epoch 77: 665872.0\n",
      "Loss after epoch 78: 668072.0\n",
      "Loss after epoch 79: 665224.0\n",
      "Loss after epoch 80: 665696.0\n",
      "Loss after epoch 81: 667380.0\n",
      "Loss after epoch 82: 663864.0\n",
      "Loss after epoch 83: 665008.0\n",
      "Loss after epoch 84: 667008.0\n",
      "Loss after epoch 85: 663436.0\n",
      "Loss after epoch 86: 662152.0\n",
      "Loss after epoch 87: 664772.0\n",
      "Loss after epoch 88: 662384.0\n",
      "Loss after epoch 89: 665172.0\n",
      "Loss after epoch 90: 661936.0\n",
      "Loss after epoch 91: 662600.0\n",
      "Loss after epoch 92: 662188.0\n",
      "Loss after epoch 93: 664076.0\n",
      "Loss after epoch 94: 362912.0\n",
      "Loss after epoch 95: 116056.0\n",
      "Loss after epoch 96: 116112.0\n",
      "Loss after epoch 97: 115520.0\n",
      "Loss after epoch 98: 115000.0\n",
      "Loss after epoch 99: 115128.0\n"
     ]
    },
    {
     "data": {
      "text/plain": [
       "(11910197, 19591000)"
      ]
     },
     "execution_count": 13,
     "metadata": {},
     "output_type": "execute_result"
    }
   ],
   "source": [
    "# Entrenamos el modelo generador de vectores\n",
    "# Utilizamos nuestro callback\n",
    "w2v_model.train(sentence_tokens,\n",
    "                 total_examples=w2v_model.corpus_count,\n",
    "                 epochs=100,\n",
    "                 compute_loss = True,\n",
    "                 callbacks=[callback()]\n",
    "                 )"
   ]
  },
  {
   "cell_type": "markdown",
   "metadata": {
    "id": "ddT9NVuNlCAe"
   },
   "source": [
    "### 4 - Ensayo"
   ]
  },
  {
   "cell_type": "code",
   "execution_count": 14,
   "metadata": {},
   "outputs": [],
   "source": [
    "def comparador(words: list[str], positive: bool = True):\n",
    "    comparaciones = []\n",
    "    for word in words:\n",
    "        arg = {\"positive\": [word]} if positive else {\"negative\": [word]}\n",
    "        comp = w2v_model.wv.most_similar(topn=4, **arg)\n",
    "        comparaciones.append({\"Palabra\": word, \n",
    "                            \"Similitud 1\": f\"{comp[0][0]} ({comp[0][1]:.3f})\", \"Similitud 2\": f\"{comp[1][0]} ({comp[1][1]:.3f})\", \n",
    "                            \"Similitud 3\": f\"{comp[2][0]} ({comp[2][1]:.3f})\", \"Similitud 4\": f\"{comp[3][0]} ({comp[3][1]:.3f})\"})\n",
    "    df_comp = pd.DataFrame(comparaciones)\n",
    "    print(f\"Similitudes: {'positivas' if positive else 'negativas'}\")\n",
    "    display(df_comp)"
   ]
  },
  {
   "cell_type": "markdown",
   "metadata": {},
   "source": [
    "#### Palabras relacionadas positivamente"
   ]
  },
  {
   "cell_type": "code",
   "execution_count": 15,
   "metadata": {},
   "outputs": [
    {
     "name": "stdout",
     "output_type": "stream",
     "text": [
      "Similitudes: positivas\n"
     ]
    },
    {
     "data": {
      "text/html": [
       "<div>\n",
       "<style scoped>\n",
       "    .dataframe tbody tr th:only-of-type {\n",
       "        vertical-align: middle;\n",
       "    }\n",
       "\n",
       "    .dataframe tbody tr th {\n",
       "        vertical-align: top;\n",
       "    }\n",
       "\n",
       "    .dataframe thead th {\n",
       "        text-align: right;\n",
       "    }\n",
       "</style>\n",
       "<table border=\"1\" class=\"dataframe\">\n",
       "  <thead>\n",
       "    <tr style=\"text-align: right;\">\n",
       "      <th></th>\n",
       "      <th>Palabra</th>\n",
       "      <th>Similitud 1</th>\n",
       "      <th>Similitud 2</th>\n",
       "      <th>Similitud 3</th>\n",
       "      <th>Similitud 4</th>\n",
       "    </tr>\n",
       "  </thead>\n",
       "  <tbody>\n",
       "    <tr>\n",
       "      <th>0</th>\n",
       "      <td>dracula</td>\n",
       "      <td>criminal (0.493)</td>\n",
       "      <td>madness (0.481)</td>\n",
       "      <td>silent (0.473)</td>\n",
       "      <td>candy (0.431)</td>\n",
       "    </tr>\n",
       "    <tr>\n",
       "      <th>1</th>\n",
       "      <td>project</td>\n",
       "      <td>gutenberg (0.739)</td>\n",
       "      <td>mission (0.653)</td>\n",
       "      <td>volunteers (0.607)</td>\n",
       "      <td>distributing (0.591)</td>\n",
       "    </tr>\n",
       "    <tr>\n",
       "      <th>2</th>\n",
       "      <td>teeth</td>\n",
       "      <td>gums (0.540)</td>\n",
       "      <td>wax (0.512)</td>\n",
       "      <td>sharper (0.480)</td>\n",
       "      <td>size (0.462)</td>\n",
       "    </tr>\n",
       "    <tr>\n",
       "      <th>3</th>\n",
       "      <td>transfusion</td>\n",
       "      <td>plenty (0.543)</td>\n",
       "      <td>blood (0.462)</td>\n",
       "      <td>operation (0.460)</td>\n",
       "      <td>bloom (0.454)</td>\n",
       "    </tr>\n",
       "  </tbody>\n",
       "</table>\n",
       "</div>"
      ],
      "text/plain": [
       "       Palabra        Similitud 1      Similitud 2         Similitud 3  \\\n",
       "0      dracula   criminal (0.493)  madness (0.481)      silent (0.473)   \n",
       "1      project  gutenberg (0.739)  mission (0.653)  volunteers (0.607)   \n",
       "2        teeth       gums (0.540)      wax (0.512)     sharper (0.480)   \n",
       "3  transfusion     plenty (0.543)    blood (0.462)   operation (0.460)   \n",
       "\n",
       "            Similitud 4  \n",
       "0         candy (0.431)  \n",
       "1  distributing (0.591)  \n",
       "2          size (0.462)  \n",
       "3         bloom (0.454)  "
      ]
     },
     "metadata": {},
     "output_type": "display_data"
    }
   ],
   "source": [
    "words = [\"dracula\", \"project\", \"teeth\", \"transfusion\"]\n",
    "comparador(words, positive=True)"
   ]
  },
  {
   "cell_type": "markdown",
   "metadata": {},
   "source": [
    "#### Conclusiones:\n",
    "La palabra dracula tiene una buena similitud con criminal, madness, silent y candy.  \n",
    "Puedo suponer hay similitud semántica y que es usada en contextos similares.  \n",
    "Criminal, madness y silent pueden tener sentido que se mencionen en contextos similares.  \n",
    "Candy no me parece tan lógico, pero buscando info, se trata de \"Mitchell, Sons & Candy\", una empresa de bienes raíces ficticia en el que se investigan las propiedades del conde dracula.  \n",
    "\n",
    "La palabra project, tiene muy buena similitud con gutenberg, mission, volunteers y distributing.  \n",
    "Si bien no pertenece a la novela, el epub tiene una referencia al final al proyecto gutenberg, con terminos de licencia y uso del epub.  \n",
    "Es por eso que todas estas palabras pueden estar siendo usadas en contextos similares.  \n",
    "\n",
    "La palabra teeth, tiene buena similitud con gums, wax, sharper y size.  \n",
    "Puedo suponer que al hablar de dientes, se describan algunas caracteristicas, y se hable en referencia a estas en contextos similares.  \n",
    "\n",
    "La palabra transfusion, tiene similitud con plenty, blood, operation y bloom.  \n",
    "Con blood y operation tiene bastante sentido que aparezcan en contextos similares.  "
   ]
  },
  {
   "cell_type": "markdown",
   "metadata": {},
   "source": [
    "#### Palabras relacionadas negativamente"
   ]
  },
  {
   "cell_type": "code",
   "execution_count": 16,
   "metadata": {},
   "outputs": [
    {
     "name": "stdout",
     "output_type": "stream",
     "text": [
      "Similitudes: negativas\n"
     ]
    },
    {
     "data": {
      "text/html": [
       "<div>\n",
       "<style scoped>\n",
       "    .dataframe tbody tr th:only-of-type {\n",
       "        vertical-align: middle;\n",
       "    }\n",
       "\n",
       "    .dataframe tbody tr th {\n",
       "        vertical-align: top;\n",
       "    }\n",
       "\n",
       "    .dataframe thead th {\n",
       "        text-align: right;\n",
       "    }\n",
       "</style>\n",
       "<table border=\"1\" class=\"dataframe\">\n",
       "  <thead>\n",
       "    <tr style=\"text-align: right;\">\n",
       "      <th></th>\n",
       "      <th>Palabra</th>\n",
       "      <th>Similitud 1</th>\n",
       "      <th>Similitud 2</th>\n",
       "      <th>Similitud 3</th>\n",
       "      <th>Similitud 4</th>\n",
       "    </tr>\n",
       "  </thead>\n",
       "  <tbody>\n",
       "    <tr>\n",
       "      <th>0</th>\n",
       "      <td>love</td>\n",
       "      <td>herself (0.144)</td>\n",
       "      <td>conscious (0.089)</td>\n",
       "      <td>entering (0.069)</td>\n",
       "      <td>rested (0.066)</td>\n",
       "    </tr>\n",
       "    <tr>\n",
       "      <th>1</th>\n",
       "      <td>dracula</td>\n",
       "      <td>slept (0.123)</td>\n",
       "      <td>hours (0.099)</td>\n",
       "      <td>cried (0.090)</td>\n",
       "      <td>makes (0.087)</td>\n",
       "    </tr>\n",
       "    <tr>\n",
       "      <th>2</th>\n",
       "      <td>night</td>\n",
       "      <td>voluptuous (0.090)</td>\n",
       "      <td>earnest (0.079)</td>\n",
       "      <td>trembled (0.067)</td>\n",
       "      <td>draw (0.060)</td>\n",
       "    </tr>\n",
       "    <tr>\n",
       "      <th>3</th>\n",
       "      <td>brain</td>\n",
       "      <td>held (0.140)</td>\n",
       "      <td>met (0.124)</td>\n",
       "      <td>leaned (0.103)</td>\n",
       "      <td>waiting (0.103)</td>\n",
       "    </tr>\n",
       "  </tbody>\n",
       "</table>\n",
       "</div>"
      ],
      "text/plain": [
       "   Palabra         Similitud 1        Similitud 2       Similitud 3  \\\n",
       "0     love     herself (0.144)  conscious (0.089)  entering (0.069)   \n",
       "1  dracula       slept (0.123)      hours (0.099)     cried (0.090)   \n",
       "2    night  voluptuous (0.090)    earnest (0.079)  trembled (0.067)   \n",
       "3    brain        held (0.140)        met (0.124)    leaned (0.103)   \n",
       "\n",
       "       Similitud 4  \n",
       "0   rested (0.066)  \n",
       "1    makes (0.087)  \n",
       "2     draw (0.060)  \n",
       "3  waiting (0.103)  "
      ]
     },
     "metadata": {},
     "output_type": "display_data"
    }
   ],
   "source": [
    "words = [\"love\", \"dracula\", \"night\", \"brain\"]\n",
    "comparador(words, positive=False)"
   ]
  },
  {
   "cell_type": "markdown",
   "metadata": {},
   "source": [
    "#### Conclusiones\n",
    "Analizar palabras relacionadas negativamente en este caso es un poco mas complejo.  \n",
    "Puedo pensar que love y herself aparecen como contrapuestas, que nunca se habla de uno mismo en contextos donde se habla de amor.  \n",
    "O que cuando se habla de amor, no se habla de conciencia o consciente.  \n",
    "Parece que amor y descansado estarían contrapuestos.  \n",
    "\n",
    "Para dracula, aparece como contrapuesto o negativo durmió, puedo pensar que dracula no aparece dormido.  \n",
    "O que en los contextos donde se habla de drácula, no se mencionan horas, o llantos.  \n",
    "\n",
    "En el caso de night, no logro asociar negativamente los términos.  \n",
    "Noche y serio, noche y tembló, noche y dibujo aparecerían en contextos contrapuestos.\n",
    "\n",
    "Por último, para la palabra cerebro, aparecen como contextos negativos retenido, reunido, inclinado, y esperando.  \n",
    "No parecen tener similitud positiva como para pensar que estan mal, pero tampoco encuentro mucha similitud negativa como para afirmar que estan bien.\n",
    "\n",
    "Busqué con distintos términos, no fue facil encontrar casos muy representativos"
   ]
  },
  {
   "cell_type": "markdown",
   "metadata": {},
   "source": [
    "#### Test de analogías"
   ]
  },
  {
   "cell_type": "code",
   "execution_count": 17,
   "metadata": {},
   "outputs": [
    {
     "name": "stdout",
     "output_type": "stream",
     "text": [
      "[('risk', 0.4035259783267975)]\n"
     ]
    }
   ],
   "source": [
    "# Test de analogías\n",
    "\n",
    "# Ajo - proteje + sangre = riesgo\n",
    "result = w2v_model.wv.most_similar(positive=['garlic', 'blood'], negative=['protect'], topn=1)\n",
    "print(result)\n"
   ]
  },
  {
   "cell_type": "markdown",
   "metadata": {},
   "source": [
    "#### Conclusion\n",
    "Para el test de analogía, el ejemplo planteado podría tener cierta lógica.  \n",
    "Si el ajo proteje, la sangre implica riesgo.  \n",
    "El ajo es a protección como la sangre es a riesgo.  \n",
    "Desde el punto de vista de que el ajo proteje de drácula, la presencia de sangre sería el riesgo de haber sido mordido por drácula."
   ]
  },
  {
   "cell_type": "markdown",
   "metadata": {
    "id": "_g8UVWe6lFmh"
   },
   "source": [
    "### 5 - Visualizar agrupación de vectores"
   ]
  },
  {
   "cell_type": "code",
   "execution_count": 18,
   "metadata": {
    "id": "pDxEVXAivjr9"
   },
   "outputs": [],
   "source": [
    "from sklearn.manifold import TSNE                   \n",
    "import numpy as np                                  \n",
    "\n",
    "def reduce_dimensions(model, num_dimensions = 2 ):\n",
    "     \n",
    "    vectors = np.asarray(model.wv.vectors)\n",
    "    labels = np.asarray(model.wv.index_to_key)  \n",
    "\n",
    "    tsne = TSNE(n_components=num_dimensions, random_state=42)\n",
    "    vectors = tsne.fit_transform(vectors)\n",
    "\n",
    "    return vectors, labels"
   ]
  },
  {
   "cell_type": "code",
   "execution_count": 19,
   "metadata": {
    "id": "NCCXtDpcugmd"
   },
   "outputs": [
    {
     "data": {
      "application/vnd.plotly.v1+json": {
       "config": {
        "plotlyServerURL": "https://plot.ly"
       },
       "data": [
        {
         "hovertemplate": "x=%{x}<br>y=%{y}<br>text=%{text}<extra></extra>",
         "legendgroup": "",
         "marker": {
          "color": "#636efa",
          "symbol": "circle"
         },
         "mode": "markers+text",
         "name": "",
         "orientation": "v",
         "showlegend": false,
         "text": [
          ",",
          "the",
          ".",
          "and",
          "i",
          "to",
          "of",
          "a",
          "he",
          "in",
          "that",
          "it",
          "was",
          ";",
          "as",
          "for",
          "we",
          "is",
          "“",
          "not",
          "you",
          "his",
          "me",
          "”",
          "with",
          "my",
          "all",
          "be",
          "so",
          "at",
          "but",
          "have",
          "her",
          "on",
          "had",
          "him",
          "-",
          "she",
          "_",
          "there",
          "when",
          "!",
          "’s",
          "which",
          "this",
          "*",
          "if",
          "--",
          "from",
          "are",
          "do",
          "were",
          "then",
          "by",
          "or",
          "      ",
          "could",
          "one",
          "no",
          "?",
          "can",
          "them",
          "what",
          "they",
          "said",
          "will",
          "us",
          "must",
          "up",
          "would",
          "some",
          "shall",
          "may",
          "out",
          "’",
          "our",
          "now",
          "see",
          "know",
          "been",
          "time",
          "more",
          "an",
          "has",
          "come",
          "am",
          "over",
          "van",
          "any",
          "helsing",
          "night",
          "your",
          "came",
          "did",
          "went",
          "lucy",
          "like",
          "who",
          "only",
          "into"
         ],
         "type": "scatter",
         "x": {
          "bdata": "046CPl9cfz9l8yu+xeUWPzaZE7+V39++VkeGPyfcmT8WFqS+9MBAP/feCz2iSZQ9Nt0UPxojpj0vZFE+ZI59PTykur46juQ+3PbOvwmTLL8hqLO/evR0P+4oG78dwre/gKhQP6SKUD/sBF0+EBTFvt+Flj12dG295Fh7vq5wDb8VEdI/oNiBP/OoCr7uxiK/d6b5P+iCqD7n+7DA7J8SP0QydD0Mc82/S501P6yZST/7U84+DCCwwGQFCL/b0SU/Sl4VPw/CAcDlr9+/B2L1PqDJhb4/yCM/wsbJPmWKsMDXnC6/angkP4qwOL82sM6/N4Hqvy4poL4eGBS/E+brvhUicb+8zva/dek/vwhW87+/vpY+31zcv8ZUTz+1yv+/+271vxbKGL6Qz6U/SMM7Pz0iFL8f5nq/xdqkv/wyhr4ooQG9U8ytPx+JWD/w4iQ/QBAPwGQDqb6meQE/Fz/AwCUQnD8JlsDAt2NuwKONsD/TleS9k8LNvyBonb7cWp3A5ThyP3iQDD3MXqi+5ZMIPw==",
          "dtype": "f4"
         },
         "xaxis": "x",
         "y": {
          "bdata": "gsn4PYzsCD8s/BW+zIzYPlOoIr8pH1K+atCIPkvcuD0Ne0i+1/6qPcnCUr9cG06/g30DPZ7N0b5+4Vk+1HwcvxWPpb68yJO/bkKKvxnMtb8uIsK/YfEBP1uRpb4p9hi/UUMeP2U1fD0cCBW/Kjfov95PHb/exI09ktckv6S9ob8V4L6+WCxvP7T5dT8DV1C9q4ZtP49qNL+szE8/0Pgyv6g5Tz2mz6O/aRacPqr2JT7wZoe/aYd+QC2sy7+TY42/PZ3jPlbjPsC0+g3AQWY/PVuMhT5Wg3M+0BYMvnGCfkC06wu/9b7/vrvAk79cF6C/cgchwB0Nt7ztWhXAJlGxvkf1N0AKwCbAk8G5vpG1JcB5ZwE/CqQtwMM1P75tySnAXF8wwCeo2D5oIqXAMhx/Pi+lqb8bFF+/4IgTwJTXbz+miHm/DQPfv6SzCr4v4Ke/qNihv+nYiMAOcTpAOdGiv+sMp72HJqS/7yGqv6uskr6trP4/ko8NwNcNKED3iMy/MrhtPgnzBL/vaoS/BI0DPw==",
          "dtype": "f4"
         },
         "yaxis": "y"
        }
       ],
       "layout": {
        "legend": {
         "tracegroupgap": 0
        },
        "margin": {
         "t": 60
        },
        "template": {
         "data": {
          "bar": [
           {
            "error_x": {
             "color": "#2a3f5f"
            },
            "error_y": {
             "color": "#2a3f5f"
            },
            "marker": {
             "line": {
              "color": "#E5ECF6",
              "width": 0.5
             },
             "pattern": {
              "fillmode": "overlay",
              "size": 10,
              "solidity": 0.2
             }
            },
            "type": "bar"
           }
          ],
          "barpolar": [
           {
            "marker": {
             "line": {
              "color": "#E5ECF6",
              "width": 0.5
             },
             "pattern": {
              "fillmode": "overlay",
              "size": 10,
              "solidity": 0.2
             }
            },
            "type": "barpolar"
           }
          ],
          "carpet": [
           {
            "aaxis": {
             "endlinecolor": "#2a3f5f",
             "gridcolor": "white",
             "linecolor": "white",
             "minorgridcolor": "white",
             "startlinecolor": "#2a3f5f"
            },
            "baxis": {
             "endlinecolor": "#2a3f5f",
             "gridcolor": "white",
             "linecolor": "white",
             "minorgridcolor": "white",
             "startlinecolor": "#2a3f5f"
            },
            "type": "carpet"
           }
          ],
          "choropleth": [
           {
            "colorbar": {
             "outlinewidth": 0,
             "ticks": ""
            },
            "type": "choropleth"
           }
          ],
          "contour": [
           {
            "colorbar": {
             "outlinewidth": 0,
             "ticks": ""
            },
            "colorscale": [
             [
              0,
              "#0d0887"
             ],
             [
              0.1111111111111111,
              "#46039f"
             ],
             [
              0.2222222222222222,
              "#7201a8"
             ],
             [
              0.3333333333333333,
              "#9c179e"
             ],
             [
              0.4444444444444444,
              "#bd3786"
             ],
             [
              0.5555555555555556,
              "#d8576b"
             ],
             [
              0.6666666666666666,
              "#ed7953"
             ],
             [
              0.7777777777777778,
              "#fb9f3a"
             ],
             [
              0.8888888888888888,
              "#fdca26"
             ],
             [
              1,
              "#f0f921"
             ]
            ],
            "type": "contour"
           }
          ],
          "contourcarpet": [
           {
            "colorbar": {
             "outlinewidth": 0,
             "ticks": ""
            },
            "type": "contourcarpet"
           }
          ],
          "heatmap": [
           {
            "colorbar": {
             "outlinewidth": 0,
             "ticks": ""
            },
            "colorscale": [
             [
              0,
              "#0d0887"
             ],
             [
              0.1111111111111111,
              "#46039f"
             ],
             [
              0.2222222222222222,
              "#7201a8"
             ],
             [
              0.3333333333333333,
              "#9c179e"
             ],
             [
              0.4444444444444444,
              "#bd3786"
             ],
             [
              0.5555555555555556,
              "#d8576b"
             ],
             [
              0.6666666666666666,
              "#ed7953"
             ],
             [
              0.7777777777777778,
              "#fb9f3a"
             ],
             [
              0.8888888888888888,
              "#fdca26"
             ],
             [
              1,
              "#f0f921"
             ]
            ],
            "type": "heatmap"
           }
          ],
          "histogram": [
           {
            "marker": {
             "pattern": {
              "fillmode": "overlay",
              "size": 10,
              "solidity": 0.2
             }
            },
            "type": "histogram"
           }
          ],
          "histogram2d": [
           {
            "colorbar": {
             "outlinewidth": 0,
             "ticks": ""
            },
            "colorscale": [
             [
              0,
              "#0d0887"
             ],
             [
              0.1111111111111111,
              "#46039f"
             ],
             [
              0.2222222222222222,
              "#7201a8"
             ],
             [
              0.3333333333333333,
              "#9c179e"
             ],
             [
              0.4444444444444444,
              "#bd3786"
             ],
             [
              0.5555555555555556,
              "#d8576b"
             ],
             [
              0.6666666666666666,
              "#ed7953"
             ],
             [
              0.7777777777777778,
              "#fb9f3a"
             ],
             [
              0.8888888888888888,
              "#fdca26"
             ],
             [
              1,
              "#f0f921"
             ]
            ],
            "type": "histogram2d"
           }
          ],
          "histogram2dcontour": [
           {
            "colorbar": {
             "outlinewidth": 0,
             "ticks": ""
            },
            "colorscale": [
             [
              0,
              "#0d0887"
             ],
             [
              0.1111111111111111,
              "#46039f"
             ],
             [
              0.2222222222222222,
              "#7201a8"
             ],
             [
              0.3333333333333333,
              "#9c179e"
             ],
             [
              0.4444444444444444,
              "#bd3786"
             ],
             [
              0.5555555555555556,
              "#d8576b"
             ],
             [
              0.6666666666666666,
              "#ed7953"
             ],
             [
              0.7777777777777778,
              "#fb9f3a"
             ],
             [
              0.8888888888888888,
              "#fdca26"
             ],
             [
              1,
              "#f0f921"
             ]
            ],
            "type": "histogram2dcontour"
           }
          ],
          "mesh3d": [
           {
            "colorbar": {
             "outlinewidth": 0,
             "ticks": ""
            },
            "type": "mesh3d"
           }
          ],
          "parcoords": [
           {
            "line": {
             "colorbar": {
              "outlinewidth": 0,
              "ticks": ""
             }
            },
            "type": "parcoords"
           }
          ],
          "pie": [
           {
            "automargin": true,
            "type": "pie"
           }
          ],
          "scatter": [
           {
            "fillpattern": {
             "fillmode": "overlay",
             "size": 10,
             "solidity": 0.2
            },
            "type": "scatter"
           }
          ],
          "scatter3d": [
           {
            "line": {
             "colorbar": {
              "outlinewidth": 0,
              "ticks": ""
             }
            },
            "marker": {
             "colorbar": {
              "outlinewidth": 0,
              "ticks": ""
             }
            },
            "type": "scatter3d"
           }
          ],
          "scattercarpet": [
           {
            "marker": {
             "colorbar": {
              "outlinewidth": 0,
              "ticks": ""
             }
            },
            "type": "scattercarpet"
           }
          ],
          "scattergeo": [
           {
            "marker": {
             "colorbar": {
              "outlinewidth": 0,
              "ticks": ""
             }
            },
            "type": "scattergeo"
           }
          ],
          "scattergl": [
           {
            "marker": {
             "colorbar": {
              "outlinewidth": 0,
              "ticks": ""
             }
            },
            "type": "scattergl"
           }
          ],
          "scattermap": [
           {
            "marker": {
             "colorbar": {
              "outlinewidth": 0,
              "ticks": ""
             }
            },
            "type": "scattermap"
           }
          ],
          "scattermapbox": [
           {
            "marker": {
             "colorbar": {
              "outlinewidth": 0,
              "ticks": ""
             }
            },
            "type": "scattermapbox"
           }
          ],
          "scatterpolar": [
           {
            "marker": {
             "colorbar": {
              "outlinewidth": 0,
              "ticks": ""
             }
            },
            "type": "scatterpolar"
           }
          ],
          "scatterpolargl": [
           {
            "marker": {
             "colorbar": {
              "outlinewidth": 0,
              "ticks": ""
             }
            },
            "type": "scatterpolargl"
           }
          ],
          "scatterternary": [
           {
            "marker": {
             "colorbar": {
              "outlinewidth": 0,
              "ticks": ""
             }
            },
            "type": "scatterternary"
           }
          ],
          "surface": [
           {
            "colorbar": {
             "outlinewidth": 0,
             "ticks": ""
            },
            "colorscale": [
             [
              0,
              "#0d0887"
             ],
             [
              0.1111111111111111,
              "#46039f"
             ],
             [
              0.2222222222222222,
              "#7201a8"
             ],
             [
              0.3333333333333333,
              "#9c179e"
             ],
             [
              0.4444444444444444,
              "#bd3786"
             ],
             [
              0.5555555555555556,
              "#d8576b"
             ],
             [
              0.6666666666666666,
              "#ed7953"
             ],
             [
              0.7777777777777778,
              "#fb9f3a"
             ],
             [
              0.8888888888888888,
              "#fdca26"
             ],
             [
              1,
              "#f0f921"
             ]
            ],
            "type": "surface"
           }
          ],
          "table": [
           {
            "cells": {
             "fill": {
              "color": "#EBF0F8"
             },
             "line": {
              "color": "white"
             }
            },
            "header": {
             "fill": {
              "color": "#C8D4E3"
             },
             "line": {
              "color": "white"
             }
            },
            "type": "table"
           }
          ]
         },
         "layout": {
          "annotationdefaults": {
           "arrowcolor": "#2a3f5f",
           "arrowhead": 0,
           "arrowwidth": 1
          },
          "autotypenumbers": "strict",
          "coloraxis": {
           "colorbar": {
            "outlinewidth": 0,
            "ticks": ""
           }
          },
          "colorscale": {
           "diverging": [
            [
             0,
             "#8e0152"
            ],
            [
             0.1,
             "#c51b7d"
            ],
            [
             0.2,
             "#de77ae"
            ],
            [
             0.3,
             "#f1b6da"
            ],
            [
             0.4,
             "#fde0ef"
            ],
            [
             0.5,
             "#f7f7f7"
            ],
            [
             0.6,
             "#e6f5d0"
            ],
            [
             0.7,
             "#b8e186"
            ],
            [
             0.8,
             "#7fbc41"
            ],
            [
             0.9,
             "#4d9221"
            ],
            [
             1,
             "#276419"
            ]
           ],
           "sequential": [
            [
             0,
             "#0d0887"
            ],
            [
             0.1111111111111111,
             "#46039f"
            ],
            [
             0.2222222222222222,
             "#7201a8"
            ],
            [
             0.3333333333333333,
             "#9c179e"
            ],
            [
             0.4444444444444444,
             "#bd3786"
            ],
            [
             0.5555555555555556,
             "#d8576b"
            ],
            [
             0.6666666666666666,
             "#ed7953"
            ],
            [
             0.7777777777777778,
             "#fb9f3a"
            ],
            [
             0.8888888888888888,
             "#fdca26"
            ],
            [
             1,
             "#f0f921"
            ]
           ],
           "sequentialminus": [
            [
             0,
             "#0d0887"
            ],
            [
             0.1111111111111111,
             "#46039f"
            ],
            [
             0.2222222222222222,
             "#7201a8"
            ],
            [
             0.3333333333333333,
             "#9c179e"
            ],
            [
             0.4444444444444444,
             "#bd3786"
            ],
            [
             0.5555555555555556,
             "#d8576b"
            ],
            [
             0.6666666666666666,
             "#ed7953"
            ],
            [
             0.7777777777777778,
             "#fb9f3a"
            ],
            [
             0.8888888888888888,
             "#fdca26"
            ],
            [
             1,
             "#f0f921"
            ]
           ]
          },
          "colorway": [
           "#636efa",
           "#EF553B",
           "#00cc96",
           "#ab63fa",
           "#FFA15A",
           "#19d3f3",
           "#FF6692",
           "#B6E880",
           "#FF97FF",
           "#FECB52"
          ],
          "font": {
           "color": "#2a3f5f"
          },
          "geo": {
           "bgcolor": "white",
           "lakecolor": "white",
           "landcolor": "#E5ECF6",
           "showlakes": true,
           "showland": true,
           "subunitcolor": "white"
          },
          "hoverlabel": {
           "align": "left"
          },
          "hovermode": "closest",
          "mapbox": {
           "style": "light"
          },
          "paper_bgcolor": "white",
          "plot_bgcolor": "#E5ECF6",
          "polar": {
           "angularaxis": {
            "gridcolor": "white",
            "linecolor": "white",
            "ticks": ""
           },
           "bgcolor": "#E5ECF6",
           "radialaxis": {
            "gridcolor": "white",
            "linecolor": "white",
            "ticks": ""
           }
          },
          "scene": {
           "xaxis": {
            "backgroundcolor": "#E5ECF6",
            "gridcolor": "white",
            "gridwidth": 2,
            "linecolor": "white",
            "showbackground": true,
            "ticks": "",
            "zerolinecolor": "white"
           },
           "yaxis": {
            "backgroundcolor": "#E5ECF6",
            "gridcolor": "white",
            "gridwidth": 2,
            "linecolor": "white",
            "showbackground": true,
            "ticks": "",
            "zerolinecolor": "white"
           },
           "zaxis": {
            "backgroundcolor": "#E5ECF6",
            "gridcolor": "white",
            "gridwidth": 2,
            "linecolor": "white",
            "showbackground": true,
            "ticks": "",
            "zerolinecolor": "white"
           }
          },
          "shapedefaults": {
           "line": {
            "color": "#2a3f5f"
           }
          },
          "ternary": {
           "aaxis": {
            "gridcolor": "white",
            "linecolor": "white",
            "ticks": ""
           },
           "baxis": {
            "gridcolor": "white",
            "linecolor": "white",
            "ticks": ""
           },
           "bgcolor": "#E5ECF6",
           "caxis": {
            "gridcolor": "white",
            "linecolor": "white",
            "ticks": ""
           }
          },
          "title": {
           "x": 0.05
          },
          "xaxis": {
           "automargin": true,
           "gridcolor": "white",
           "linecolor": "white",
           "ticks": "",
           "title": {
            "standoff": 15
           },
           "zerolinecolor": "white",
           "zerolinewidth": 2
          },
          "yaxis": {
           "automargin": true,
           "gridcolor": "white",
           "linecolor": "white",
           "ticks": "",
           "title": {
            "standoff": 15
           },
           "zerolinecolor": "white",
           "zerolinewidth": 2
          }
         }
        },
        "xaxis": {
         "anchor": "y",
         "domain": [
          0,
          1
         ],
         "title": {
          "text": "x"
         }
        },
        "yaxis": {
         "anchor": "x",
         "domain": [
          0,
          1
         ],
         "title": {
          "text": "y"
         }
        }
       }
      }
     },
     "metadata": {},
     "output_type": "display_data"
    }
   ],
   "source": [
    "# Graficar los embedddings en 2D\n",
    "import plotly.graph_objects as go\n",
    "import plotly.express as px\n",
    "\n",
    "vecs, labels = reduce_dimensions(w2v_model)\n",
    "\n",
    "MAX_WORDS=100\n",
    "fig = px.scatter(x=vecs[:MAX_WORDS,0], y=vecs[:MAX_WORDS,1], text=labels[:MAX_WORDS])\n",
    "fig.show()\n",
    "# fig.show(renderer=\"colab\") # esto para plotly en colab"
   ]
  },
  {
   "cell_type": "markdown",
   "metadata": {},
   "source": [
    "Palabras como van y helsing se observan en (-6, -1) y estan superpuestas. Eso significa una fuerte relación positiva entre ellas.  \n",
    "Lucy o night aparecen bastante separadas del resto. Esto significaría una relación negativa con el resto de los términos.\n",
    "\n",
    "Esta representación es parcial y seguramente esta perdiendo muchos detalles, ya que solo se muestran 100 palabras de todo el corpus."
   ]
  },
  {
   "cell_type": "code",
   "execution_count": 20,
   "metadata": {},
   "outputs": [
    {
     "data": {
      "application/vnd.plotly.v1+json": {
       "config": {
        "plotlyServerURL": "https://plot.ly"
       },
       "data": [
        {
         "hovertemplate": "x=%{x}<br>y=%{y}<br>z=%{z}<br>text=%{text}<extra></extra>",
         "legendgroup": "",
         "marker": {
          "color": "#636efa",
          "size": 2,
          "symbol": "circle"
         },
         "mode": "markers+text",
         "name": "",
         "scene": "scene",
         "showlegend": false,
         "text": [
          ",",
          "the",
          ".",
          "and",
          "i",
          "to",
          "of",
          "a",
          "he",
          "in",
          "that",
          "it",
          "was",
          ";",
          "as",
          "for",
          "we",
          "is",
          "“",
          "not",
          "you",
          "his",
          "me",
          "”",
          "with",
          "my",
          "all",
          "be",
          "so",
          "at",
          "but",
          "have",
          "her",
          "on",
          "had",
          "him",
          "-",
          "she",
          "_",
          "there",
          "when",
          "!",
          "’s",
          "which",
          "this",
          "*",
          "if",
          "--",
          "from",
          "are",
          "do",
          "were",
          "then",
          "by",
          "or",
          "      ",
          "could",
          "one",
          "no",
          "?",
          "can",
          "them",
          "what",
          "they",
          "said",
          "will",
          "us",
          "must",
          "up",
          "would",
          "some",
          "shall",
          "may",
          "out",
          "’",
          "our",
          "now",
          "see",
          "know",
          "been",
          "time",
          "more",
          "an",
          "has",
          "come",
          "am",
          "over",
          "van",
          "any",
          "helsing",
          "night",
          "your",
          "came",
          "did",
          "went",
          "lucy",
          "like",
          "who",
          "only",
          "into"
         ],
         "type": "scatter3d",
         "x": {
          "bdata": "Q+emQBTq0EI9nQlAYWKfQhNt9sAUTSfD+KxUwL1fYkCVBJnBVLK2wbAUAUA+pBjBZreRwHeAlkA2dX1BYvA7QLAIrcCC7X7BPWLjwXlEnMHxbOvB+aV/QZ7vxkH4W0rBUoFTQWUeckFB8lhD5iCwwMRO2z+pw/RAXCB/wGGkI8FNfbJBjX9KQAYxPsChpmzBIp5TQf+bkME7UXnAqLspQbWs90CqkcDBkuR8wXCJ1UGWs8vBjo+YQPcIxsGXJ+tAeWaaQHNZ1MFMbLnB85pRQNO/d0A2l/9ANKnFQTBrcUAMpw7CMnjtwLMMIsIewQTCnZzEwSP6usEmQaXAQ4DdwGqONcD9GAbC464WQSkt2cEi3KdBVdrkwSufd8LAv+3BPiLuwaX53sF/f2hBhMIlQa9CkcEKTA1AxLCRwZ4UBMGBZw9B3OiQQcmJckC6PDDBTsBlwUPr5MHhhhFCNpwwwkUMNcKP2SzCJwuEQWU0IcIxt1xAAITOwWPCAUKpdEHCaqY2Qp+dSsKgXeLB5HBzwQ==",
          "dtype": "f4"
         },
         "y": {
          "bdata": "NK1fwDKsB0OkLavA4m1iwn4wJcG+SlbC3/5jQeFhWkEMQnW/DK/uwszELcFjkybB5EMBQV0EDsEvHEq/zV0VQp7IDsFUF5VAVfhvPzc8h8FgDRHBlQG4QH50qsIzk99ASSYTQZca3D99oB1D99quwaPyoMGyvJTAf3eTwanxVMFG4oM/qQukQV4ZPD8XJ9vA1iXTQb2p5j8S9h5CARFjwTt6nsBeJ6fAO+G5QepxgcC/96tAmNLzQUjINME9C8zApuKmQbgRw8B+5N7BSNMIwQCYI8E7pU2+bN+3wAjs/kEA1xXBy/wMwdO8TMDbFIvBFTKdwbVdVkFojBHCNIV7wPRskUDoanrBOJWbwfN0aMFlHl1BWHSRwdZmrUHuQ5rBcwiDwV8e/UCraCTCfhWUvi738cCepg/Bl6mHwYBrAkCjKLzBQhyVwYYPND8XVxJADmYMwnuYDsG8uy9BZiWoQRIOxsABWo9BnVDNwWMu40Bd5gFBKfrWwXk1ir+X2aRB/Cw3QlyoK8IK1OLA2RQdQg==",
          "dtype": "f4"
         },
         "z": {
          "bdata": "s/UrQM3H6sIpGa5Aju9LQ+deP77FazhDdDTiwNjz7UA707BB0FJBwrqz/r/1iYdA7uovQfGsQUBtE7BBk0LOwHaZgcCi19u/VSmDwQbww8DSgqTB2S8ZQfBov8Kk/aRB+WF/v9F500DfIElDXgbVwLh9C0FjZGFBXQIAQQF9tcB/bhNB9OhoP+plDUEP8AtBveFRwOxUikFqXx7Cd0YhQT2O8EBq5lHBz/cwwZ8stkAa/pa/OKJHwt0fEkARMqm//BY9war3DcKw1oXBhnMqQdAW5UHefmlCuejmwcPZUsI+ldZBf9JsQTQGS8EPVcC/r1bAwUgRZkFrMhHBz61ZwCIY+kFAXMHBrbB6wX+Xz8HKOXdCN51YwUjDvMAJytDB9XKkwW2zpUGx4K1AfMlXQO4eVsD2SlbBHESTwY4rHEG2up/AicmFQZyEhkJ+TvQ++1+RwA8KLsITnjBCsCq0Qe4K7cAiQLtBOKdLwejIDUFSR4FBaYTXwGwC4UFiQyrBB2gsQZNKQkFQZ7vA9LhOQg==",
          "dtype": "f4"
         }
        }
       ],
       "layout": {
        "legend": {
         "tracegroupgap": 0
        },
        "margin": {
         "t": 60
        },
        "scene": {
         "domain": {
          "x": [
           0,
           1
          ],
          "y": [
           0,
           1
          ]
         },
         "xaxis": {
          "title": {
           "text": "x"
          }
         },
         "yaxis": {
          "title": {
           "text": "y"
          }
         },
         "zaxis": {
          "title": {
           "text": "z"
          }
         }
        },
        "template": {
         "data": {
          "bar": [
           {
            "error_x": {
             "color": "#2a3f5f"
            },
            "error_y": {
             "color": "#2a3f5f"
            },
            "marker": {
             "line": {
              "color": "#E5ECF6",
              "width": 0.5
             },
             "pattern": {
              "fillmode": "overlay",
              "size": 10,
              "solidity": 0.2
             }
            },
            "type": "bar"
           }
          ],
          "barpolar": [
           {
            "marker": {
             "line": {
              "color": "#E5ECF6",
              "width": 0.5
             },
             "pattern": {
              "fillmode": "overlay",
              "size": 10,
              "solidity": 0.2
             }
            },
            "type": "barpolar"
           }
          ],
          "carpet": [
           {
            "aaxis": {
             "endlinecolor": "#2a3f5f",
             "gridcolor": "white",
             "linecolor": "white",
             "minorgridcolor": "white",
             "startlinecolor": "#2a3f5f"
            },
            "baxis": {
             "endlinecolor": "#2a3f5f",
             "gridcolor": "white",
             "linecolor": "white",
             "minorgridcolor": "white",
             "startlinecolor": "#2a3f5f"
            },
            "type": "carpet"
           }
          ],
          "choropleth": [
           {
            "colorbar": {
             "outlinewidth": 0,
             "ticks": ""
            },
            "type": "choropleth"
           }
          ],
          "contour": [
           {
            "colorbar": {
             "outlinewidth": 0,
             "ticks": ""
            },
            "colorscale": [
             [
              0,
              "#0d0887"
             ],
             [
              0.1111111111111111,
              "#46039f"
             ],
             [
              0.2222222222222222,
              "#7201a8"
             ],
             [
              0.3333333333333333,
              "#9c179e"
             ],
             [
              0.4444444444444444,
              "#bd3786"
             ],
             [
              0.5555555555555556,
              "#d8576b"
             ],
             [
              0.6666666666666666,
              "#ed7953"
             ],
             [
              0.7777777777777778,
              "#fb9f3a"
             ],
             [
              0.8888888888888888,
              "#fdca26"
             ],
             [
              1,
              "#f0f921"
             ]
            ],
            "type": "contour"
           }
          ],
          "contourcarpet": [
           {
            "colorbar": {
             "outlinewidth": 0,
             "ticks": ""
            },
            "type": "contourcarpet"
           }
          ],
          "heatmap": [
           {
            "colorbar": {
             "outlinewidth": 0,
             "ticks": ""
            },
            "colorscale": [
             [
              0,
              "#0d0887"
             ],
             [
              0.1111111111111111,
              "#46039f"
             ],
             [
              0.2222222222222222,
              "#7201a8"
             ],
             [
              0.3333333333333333,
              "#9c179e"
             ],
             [
              0.4444444444444444,
              "#bd3786"
             ],
             [
              0.5555555555555556,
              "#d8576b"
             ],
             [
              0.6666666666666666,
              "#ed7953"
             ],
             [
              0.7777777777777778,
              "#fb9f3a"
             ],
             [
              0.8888888888888888,
              "#fdca26"
             ],
             [
              1,
              "#f0f921"
             ]
            ],
            "type": "heatmap"
           }
          ],
          "histogram": [
           {
            "marker": {
             "pattern": {
              "fillmode": "overlay",
              "size": 10,
              "solidity": 0.2
             }
            },
            "type": "histogram"
           }
          ],
          "histogram2d": [
           {
            "colorbar": {
             "outlinewidth": 0,
             "ticks": ""
            },
            "colorscale": [
             [
              0,
              "#0d0887"
             ],
             [
              0.1111111111111111,
              "#46039f"
             ],
             [
              0.2222222222222222,
              "#7201a8"
             ],
             [
              0.3333333333333333,
              "#9c179e"
             ],
             [
              0.4444444444444444,
              "#bd3786"
             ],
             [
              0.5555555555555556,
              "#d8576b"
             ],
             [
              0.6666666666666666,
              "#ed7953"
             ],
             [
              0.7777777777777778,
              "#fb9f3a"
             ],
             [
              0.8888888888888888,
              "#fdca26"
             ],
             [
              1,
              "#f0f921"
             ]
            ],
            "type": "histogram2d"
           }
          ],
          "histogram2dcontour": [
           {
            "colorbar": {
             "outlinewidth": 0,
             "ticks": ""
            },
            "colorscale": [
             [
              0,
              "#0d0887"
             ],
             [
              0.1111111111111111,
              "#46039f"
             ],
             [
              0.2222222222222222,
              "#7201a8"
             ],
             [
              0.3333333333333333,
              "#9c179e"
             ],
             [
              0.4444444444444444,
              "#bd3786"
             ],
             [
              0.5555555555555556,
              "#d8576b"
             ],
             [
              0.6666666666666666,
              "#ed7953"
             ],
             [
              0.7777777777777778,
              "#fb9f3a"
             ],
             [
              0.8888888888888888,
              "#fdca26"
             ],
             [
              1,
              "#f0f921"
             ]
            ],
            "type": "histogram2dcontour"
           }
          ],
          "mesh3d": [
           {
            "colorbar": {
             "outlinewidth": 0,
             "ticks": ""
            },
            "type": "mesh3d"
           }
          ],
          "parcoords": [
           {
            "line": {
             "colorbar": {
              "outlinewidth": 0,
              "ticks": ""
             }
            },
            "type": "parcoords"
           }
          ],
          "pie": [
           {
            "automargin": true,
            "type": "pie"
           }
          ],
          "scatter": [
           {
            "fillpattern": {
             "fillmode": "overlay",
             "size": 10,
             "solidity": 0.2
            },
            "type": "scatter"
           }
          ],
          "scatter3d": [
           {
            "line": {
             "colorbar": {
              "outlinewidth": 0,
              "ticks": ""
             }
            },
            "marker": {
             "colorbar": {
              "outlinewidth": 0,
              "ticks": ""
             }
            },
            "type": "scatter3d"
           }
          ],
          "scattercarpet": [
           {
            "marker": {
             "colorbar": {
              "outlinewidth": 0,
              "ticks": ""
             }
            },
            "type": "scattercarpet"
           }
          ],
          "scattergeo": [
           {
            "marker": {
             "colorbar": {
              "outlinewidth": 0,
              "ticks": ""
             }
            },
            "type": "scattergeo"
           }
          ],
          "scattergl": [
           {
            "marker": {
             "colorbar": {
              "outlinewidth": 0,
              "ticks": ""
             }
            },
            "type": "scattergl"
           }
          ],
          "scattermap": [
           {
            "marker": {
             "colorbar": {
              "outlinewidth": 0,
              "ticks": ""
             }
            },
            "type": "scattermap"
           }
          ],
          "scattermapbox": [
           {
            "marker": {
             "colorbar": {
              "outlinewidth": 0,
              "ticks": ""
             }
            },
            "type": "scattermapbox"
           }
          ],
          "scatterpolar": [
           {
            "marker": {
             "colorbar": {
              "outlinewidth": 0,
              "ticks": ""
             }
            },
            "type": "scatterpolar"
           }
          ],
          "scatterpolargl": [
           {
            "marker": {
             "colorbar": {
              "outlinewidth": 0,
              "ticks": ""
             }
            },
            "type": "scatterpolargl"
           }
          ],
          "scatterternary": [
           {
            "marker": {
             "colorbar": {
              "outlinewidth": 0,
              "ticks": ""
             }
            },
            "type": "scatterternary"
           }
          ],
          "surface": [
           {
            "colorbar": {
             "outlinewidth": 0,
             "ticks": ""
            },
            "colorscale": [
             [
              0,
              "#0d0887"
             ],
             [
              0.1111111111111111,
              "#46039f"
             ],
             [
              0.2222222222222222,
              "#7201a8"
             ],
             [
              0.3333333333333333,
              "#9c179e"
             ],
             [
              0.4444444444444444,
              "#bd3786"
             ],
             [
              0.5555555555555556,
              "#d8576b"
             ],
             [
              0.6666666666666666,
              "#ed7953"
             ],
             [
              0.7777777777777778,
              "#fb9f3a"
             ],
             [
              0.8888888888888888,
              "#fdca26"
             ],
             [
              1,
              "#f0f921"
             ]
            ],
            "type": "surface"
           }
          ],
          "table": [
           {
            "cells": {
             "fill": {
              "color": "#EBF0F8"
             },
             "line": {
              "color": "white"
             }
            },
            "header": {
             "fill": {
              "color": "#C8D4E3"
             },
             "line": {
              "color": "white"
             }
            },
            "type": "table"
           }
          ]
         },
         "layout": {
          "annotationdefaults": {
           "arrowcolor": "#2a3f5f",
           "arrowhead": 0,
           "arrowwidth": 1
          },
          "autotypenumbers": "strict",
          "coloraxis": {
           "colorbar": {
            "outlinewidth": 0,
            "ticks": ""
           }
          },
          "colorscale": {
           "diverging": [
            [
             0,
             "#8e0152"
            ],
            [
             0.1,
             "#c51b7d"
            ],
            [
             0.2,
             "#de77ae"
            ],
            [
             0.3,
             "#f1b6da"
            ],
            [
             0.4,
             "#fde0ef"
            ],
            [
             0.5,
             "#f7f7f7"
            ],
            [
             0.6,
             "#e6f5d0"
            ],
            [
             0.7,
             "#b8e186"
            ],
            [
             0.8,
             "#7fbc41"
            ],
            [
             0.9,
             "#4d9221"
            ],
            [
             1,
             "#276419"
            ]
           ],
           "sequential": [
            [
             0,
             "#0d0887"
            ],
            [
             0.1111111111111111,
             "#46039f"
            ],
            [
             0.2222222222222222,
             "#7201a8"
            ],
            [
             0.3333333333333333,
             "#9c179e"
            ],
            [
             0.4444444444444444,
             "#bd3786"
            ],
            [
             0.5555555555555556,
             "#d8576b"
            ],
            [
             0.6666666666666666,
             "#ed7953"
            ],
            [
             0.7777777777777778,
             "#fb9f3a"
            ],
            [
             0.8888888888888888,
             "#fdca26"
            ],
            [
             1,
             "#f0f921"
            ]
           ],
           "sequentialminus": [
            [
             0,
             "#0d0887"
            ],
            [
             0.1111111111111111,
             "#46039f"
            ],
            [
             0.2222222222222222,
             "#7201a8"
            ],
            [
             0.3333333333333333,
             "#9c179e"
            ],
            [
             0.4444444444444444,
             "#bd3786"
            ],
            [
             0.5555555555555556,
             "#d8576b"
            ],
            [
             0.6666666666666666,
             "#ed7953"
            ],
            [
             0.7777777777777778,
             "#fb9f3a"
            ],
            [
             0.8888888888888888,
             "#fdca26"
            ],
            [
             1,
             "#f0f921"
            ]
           ]
          },
          "colorway": [
           "#636efa",
           "#EF553B",
           "#00cc96",
           "#ab63fa",
           "#FFA15A",
           "#19d3f3",
           "#FF6692",
           "#B6E880",
           "#FF97FF",
           "#FECB52"
          ],
          "font": {
           "color": "#2a3f5f"
          },
          "geo": {
           "bgcolor": "white",
           "lakecolor": "white",
           "landcolor": "#E5ECF6",
           "showlakes": true,
           "showland": true,
           "subunitcolor": "white"
          },
          "hoverlabel": {
           "align": "left"
          },
          "hovermode": "closest",
          "mapbox": {
           "style": "light"
          },
          "paper_bgcolor": "white",
          "plot_bgcolor": "#E5ECF6",
          "polar": {
           "angularaxis": {
            "gridcolor": "white",
            "linecolor": "white",
            "ticks": ""
           },
           "bgcolor": "#E5ECF6",
           "radialaxis": {
            "gridcolor": "white",
            "linecolor": "white",
            "ticks": ""
           }
          },
          "scene": {
           "xaxis": {
            "backgroundcolor": "#E5ECF6",
            "gridcolor": "white",
            "gridwidth": 2,
            "linecolor": "white",
            "showbackground": true,
            "ticks": "",
            "zerolinecolor": "white"
           },
           "yaxis": {
            "backgroundcolor": "#E5ECF6",
            "gridcolor": "white",
            "gridwidth": 2,
            "linecolor": "white",
            "showbackground": true,
            "ticks": "",
            "zerolinecolor": "white"
           },
           "zaxis": {
            "backgroundcolor": "#E5ECF6",
            "gridcolor": "white",
            "gridwidth": 2,
            "linecolor": "white",
            "showbackground": true,
            "ticks": "",
            "zerolinecolor": "white"
           }
          },
          "shapedefaults": {
           "line": {
            "color": "#2a3f5f"
           }
          },
          "ternary": {
           "aaxis": {
            "gridcolor": "white",
            "linecolor": "white",
            "ticks": ""
           },
           "baxis": {
            "gridcolor": "white",
            "linecolor": "white",
            "ticks": ""
           },
           "bgcolor": "#E5ECF6",
           "caxis": {
            "gridcolor": "white",
            "linecolor": "white",
            "ticks": ""
           }
          },
          "title": {
           "x": 0.05
          },
          "xaxis": {
           "automargin": true,
           "gridcolor": "white",
           "linecolor": "white",
           "ticks": "",
           "title": {
            "standoff": 15
           },
           "zerolinecolor": "white",
           "zerolinewidth": 2
          },
          "yaxis": {
           "automargin": true,
           "gridcolor": "white",
           "linecolor": "white",
           "ticks": "",
           "title": {
            "standoff": 15
           },
           "zerolinecolor": "white",
           "zerolinewidth": 2
          }
         }
        }
       }
      }
     },
     "metadata": {},
     "output_type": "display_data"
    }
   ],
   "source": [
    "# Graficar los embedddings en 3D\n",
    "\n",
    "vecs, labels = reduce_dimensions(w2v_model,3)\n",
    "\n",
    "fig = px.scatter_3d(x=vecs[:MAX_WORDS,0], y=vecs[:MAX_WORDS,1], z=vecs[:MAX_WORDS,2],text=labels[:MAX_WORDS])\n",
    "fig.update_traces(marker_size = 2)\n",
    "# fig.show(renderer=\"colab\") # esto para plotly en colab\n",
    "fig.show()"
   ]
  },
  {
   "cell_type": "markdown",
   "metadata": {},
   "source": [
    "En la gráfica 3D, vemos como las palabras it, to y all estan muy separadas del resto de términos, indicando una relación muy negativa respecto al resto de términos.\n"
   ]
  },
  {
   "cell_type": "markdown",
   "metadata": {},
   "source": [
    "### Conclusiones generales\n",
    "\n",
    "En el trabajo se observaron similitudes semánticas, positivas y negativas.  \n",
    "En general al realizar el análisis intuitivo, costó pensar estas relaciones, pero puedo suponer que en parte se debe al texto utilizado, y que este texto tiene oraciones cortadas en distintas líneas.  \n",
    "Estoy tomando cada línea como un documento, por lo que limita la interpretación.  \n",
    "Si se considerara cada oración completa, por ejemplo, separada por stop words, posiblemente el contexto se interpretaría mejor.  \n",
    "Probé cambiando la ventana de Word2Vec a valores como 3, 4 y 5, pero no obtuve mejores resultados.  \n",
    "Para algunos ejemplos parecia mejor el contexto, pero para otros no.\n"
   ]
  }
 ],
 "metadata": {
  "colab": {
   "collapsed_sections": [],
   "provenance": []
  },
  "kernelspec": {
   "display_name": "B3_AP",
   "language": "python",
   "name": "python3"
  },
  "language_info": {
   "codemirror_mode": {
    "name": "ipython",
    "version": 3
   },
   "file_extension": ".py",
   "mimetype": "text/x-python",
   "name": "python",
   "nbconvert_exporter": "python",
   "pygments_lexer": "ipython3",
   "version": "3.11.13"
  }
 },
 "nbformat": 4,
 "nbformat_minor": 4
}
