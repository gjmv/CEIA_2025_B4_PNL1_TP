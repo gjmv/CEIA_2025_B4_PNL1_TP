{
  "cells": [
    {
      "cell_type": "code",
      "execution_count": 1,
      "metadata": {},
      "outputs": [
        {
          "name": "stdout",
          "output_type": "stream",
          "text": [
            "Requirement already satisfied: numpy in c:\\users\\usuario\\miniconda3\\envs\\b4_pnl1\\lib\\site-packages (2.3.2)\n",
            "Requirement already satisfied: scikit-learn in c:\\users\\usuario\\miniconda3\\envs\\b4_pnl1\\lib\\site-packages (1.7.2)\n",
            "Requirement already satisfied: scipy>=1.8.0 in c:\\users\\usuario\\miniconda3\\envs\\b4_pnl1\\lib\\site-packages (from scikit-learn) (1.16.1)\n",
            "Requirement already satisfied: joblib>=1.2.0 in c:\\users\\usuario\\miniconda3\\envs\\b4_pnl1\\lib\\site-packages (from scikit-learn) (1.5.2)\n",
            "Requirement already satisfied: threadpoolctl>=3.1.0 in c:\\users\\usuario\\miniconda3\\envs\\b4_pnl1\\lib\\site-packages (from scikit-learn) (3.6.0)\n",
            "Note: you may need to restart the kernel to use updated packages.\n"
          ]
        }
      ],
      "source": [
        "%pip install numpy scikit-learn"
      ]
    },
    {
      "cell_type": "code",
      "execution_count": 2,
      "metadata": {
        "id": "l7cXR6CI30ry"
      },
      "outputs": [],
      "source": [
        "from sklearn.feature_extraction.text import CountVectorizer, TfidfVectorizer\n",
        "from sklearn.metrics.pairwise import cosine_similarity\n",
        "from sklearn.naive_bayes import MultinomialNB, ComplementNB\n",
        "from sklearn.metrics import f1_score\n",
        "\n",
        "# 20newsgroups por ser un dataset clásico de NLP ya viene incluido y formateado\n",
        "# en sklearn\n",
        "from sklearn.datasets import fetch_20newsgroups\n",
        "import numpy as np\n",
        "import random as rnd\n",
        "import pandas as pd\n",
        "from IPython.display import display, HTML\n"
      ]
    },
    {
      "cell_type": "markdown",
      "metadata": {
        "id": "McArD4rSDR2K"
      },
      "source": [
        "### Consigna del desafío 1"
      ]
    },
    {
      "cell_type": "markdown",
      "metadata": {
        "id": "lJgf6GQIIEH1"
      },
      "source": [
        "**1**. Vectorizar documentos. Tomar 5 documentos al azar y medir similaridad con el resto de los documentos.\n",
        "Estudiar los 5 documentos más similares de cada uno analizar si tiene sentido\n",
        "la similaridad según el contenido del texto y la etiqueta de clasificación.\n",
        "\n",
        "**2**. Construir un modelo de clasificación por prototipos (tipo zero-shot). Clasificar los documentos de un conjunto de test comparando cada uno con todos los de entrenamiento y asignar la clase al label del documento del conjunto de entrenamiento con mayor similaridad.\n",
        "\n",
        "**3**. Entrenar modelos de clasificación Naïve Bayes para maximizar el desempeño de clasificación\n",
        "(f1-score macro) en el conjunto de datos de test. Considerar cambiar parámteros\n",
        "de instanciación del vectorizador y los modelos y probar modelos de Naïve Bayes Multinomial\n",
        "y ComplementNB.\n",
        "\n",
        "**4**. Transponer la matriz documento-término. De esa manera se obtiene una matriz\n",
        "término-documento que puede ser interpretada como una colección de vectorización de palabras.\n",
        "Estudiar ahora similaridad entre palabras tomando 5 palabras y estudiando sus 5 más similares. **La elección de palabras no debe ser al azar para evitar la aparición de términos poco interpretables, elegirlas \"manualmente\"**.\n"
      ]
    },
    {
      "cell_type": "markdown",
      "metadata": {},
      "source": [
        "### Punto 1"
      ]
    },
    {
      "cell_type": "markdown",
      "metadata": {
        "id": "yD-pVDWV_rQc"
      },
      "source": [
        "#### Dataset 20 newsgroups, carga de datos"
      ]
    },
    {
      "cell_type": "code",
      "execution_count": 3,
      "metadata": {
        "id": "Ech9qJaUo9vK"
      },
      "outputs": [],
      "source": [
        "# cargamos los datos (ya separados de forma predeterminada en train y test)\n",
        "newsgroups_train = fetch_20newsgroups(subset='train', remove=('headers', 'footers', 'quotes'))\n",
        "newsgroups_test = fetch_20newsgroups(subset='test', remove=('headers', 'footers', 'quotes'))"
      ]
    },
    {
      "cell_type": "markdown",
      "metadata": {
        "id": "UxjSI7su_uWI"
      },
      "source": [
        "#### Vectorización"
      ]
    },
    {
      "cell_type": "code",
      "execution_count": 4,
      "metadata": {
        "id": "-94VP0QYCzDn"
      },
      "outputs": [],
      "source": [
        "# Vectorizo el dataset de train\n",
        "tfidfvect = TfidfVectorizer()\n",
        "X_train = tfidfvect.fit_transform(newsgroups_train.data)\n",
        "y_train = newsgroups_train.target\n",
        "# Vectorizo el dataset de test \n",
        "X_test = tfidfvect.transform(newsgroups_test.data)\n",
        "y_test = newsgroups_test.target"
      ]
    },
    {
      "cell_type": "markdown",
      "metadata": {},
      "source": [
        "#### Similitud"
      ]
    },
    {
      "cell_type": "code",
      "execution_count": 5,
      "metadata": {},
      "outputs": [
        {
          "name": "stdout",
          "output_type": "stream",
          "text": [
            "Similitudes para documento: 3449\n",
            "label: talk.politics.guns\n",
            "texto:\n",
            "\n",
            "Funny, the medical examiner today stated that there was no\n",
            "evidence ONE WAY or ANOTHER that there were bullet wounds --\n",
            "not a single autopsy has been performed, so all reports are\n",
            "deemed speculative.  INCLUDING reports that there were NO\n",
            "bullet wounds.\n",
            "\n",
            "\n",
            "Before long, I think all the kneejerk conspiracy theorists\n",
            "are going to start getting pretty pissed off at how easily\n",
            "they mislead themselves.  Also, pretty disappointed at\n",
            "being ignored by the coutnry.\n",
            "\n"
          ]
        },
        {
          "data": {
            "text/html": [
              "<table border=\"1\" class=\"dataframe\">\n",
              "  <thead>\n",
              "    <tr style=\"text-align: right;\">\n",
              "      <th></th>\n",
              "      <th>index</th>\n",
              "      <th>similitud</th>\n",
              "      <th>target</th>\n",
              "      <th>texto</th>\n",
              "    </tr>\n",
              "  </thead>\n",
              "  <tbody>\n",
              "    <tr>\n",
              "      <th>0</th>\n",
              "      <td>1121</td>\n",
              "      <td>0.461568</td>\n",
              "      <td>talk.politics.guns</td>\n",
              "      <td>Apparently needing to clarify his comments from Thursday, Dr. Nizam<br>Plawaby (spelling?), the Medical Examiner for Tarrant County, Texas,<br>who has authority in the Waco deaths, stated that since no autopsies<br>had been performed, there is no evidence for bullet wounds, or <br>evidence against bullet wounds.<br><br>Janet Reno also stated that she had never been told of bullet wounds<br>by anyone in the Justice Department.  <br></td>\n",
              "    </tr>\n",
              "    <tr>\n",
              "      <th>1</th>\n",
              "      <td>832</td>\n",
              "      <td>0.317879</td>\n",
              "      <td>talk.religion.misc</td>\n",
              "      <td>.<br>        It should be remembered that all of the first reports came from <br>       the FBI, and that independent observers, i.e. the press, were not <br>       allowed to get close and see things for themselves.  Official <br>       communiques tend to be self-serving for the agencies that issue <br>       them. <br>        People in general tend to believe first reports, as these get <br>       the most and the biggest headlines.  Corrections are often <br>       overlooked. <br>         An example is the FBI report that several of the bodies found <br>       in the rubble had bullet wounds.  The local coroner, who is <br>       independent of the FBI, has so far found no bullet wounds!</td>\n",
              "    </tr>\n",
              "    <tr>\n",
              "      <th>2</th>\n",
              "      <td>4763</td>\n",
              "      <td>0.245326</td>\n",
              "      <td>talk.politics.guns</td>\n",
              "      <td><br><br>In the interest of accuracy (seems a liitle late to start<br>that, I know) the medical examiner has *not* contradicted<br>the FBI.<br><br>The FBI said they found some folks who had been shot in<br>the head, and the medical examiner said \"we have not seen<br>evidence of this\".<br><br>At the time the medical examiner said that, they were dealing<br>with charred bodies in the compound - this sounds like<br>typical medical examiner not releasing details until<br>a thorough investigation.  The medical examiner saying<br>he hasn't seen something is *not* the same thing as saying<br>that it isn't there.</td>\n",
              "    </tr>\n",
              "    <tr>\n",
              "      <th>3</th>\n",
              "      <td>613</td>\n",
              "      <td>0.239701</td>\n",
              "      <td>talk.politics.misc</td>\n",
              "      <td>Yesterday, the FBI was saying that at least three of the bodies had<br>gunshot wounds, indicating that they were shot trying to escape the<br>fire.  Today's paper quotes the medical examiner as saying that there<br>is no evidence of gunshot wounds in any of the recovered bodies.<br><br>At the beginning of this siege, it was reported that while Koresh<br>had a class III (machine gun) license, today's paper quotes the<br>government as saying, no, they didn't have a license.<br><br>Today's paper reports that a number of the bodies were found with<br>shoulder weapons next to them, as if they had been using them while<br>dying -- which doesn't sound like the sort of action I would expect<br>from a suicide.<br><br>Our government lies, as it tries to cover over its incompetence<br>and negligence.  Why should I believe the FBI's claims about<br>anything else, when we can see that they are LYING?<br><br>This system of government is beyond reform.</td>\n",
              "    </tr>\n",
              "    <tr>\n",
              "      <th>4</th>\n",
              "      <td>2695</td>\n",
              "      <td>0.210677</td>\n",
              "      <td>talk.politics.guns</td>\n",
              "      <td><br>So far, the medical examiner (according to the news) has found NO EVIDENCE<br>of gunshot wounds in bodies so far examined.  If this continues to be<br>the case, it will sort of shoot holes (pun intended) in the FBI story,<br>wouldn't it?  And cartridges going off outside a firearm do not launch<br>a bullet like they do when fired from a gun.  The bullet hardly moves,<br>it is the brass casing that goes flying, and then with less than lethal<br>force.  It will hurt, yes, but not KILL you - I doubt if it wil penetrate<br>a coat, for example.<br><br>How about an INDEPENDENT investigation, with full subpoena powers, and<br>powers to prosecute on felony charges, to investigate for any possible<br>illegal/criminal activity on the part of both the BATF and FBI?  I<br>cannot see any reason why not - to use the phrase they like to use<br>so often, \"if they have nothing to hide...\" they should welcome it,<br>and vigorously support it.  Note that an internal investigation by the<br>Dept of Justice is NOT an independent investigation...<br></td>\n",
              "    </tr>\n",
              "  </tbody>\n",
              "</table>"
            ],
            "text/plain": [
              "<IPython.core.display.HTML object>"
            ]
          },
          "metadata": {},
          "output_type": "display_data"
        },
        {
          "name": "stdout",
          "output_type": "stream",
          "text": [
            "*****************************************\n",
            "Similitudes para documento: 4228\n",
            "label: misc.forsale\n",
            "texto:\n",
            "Hi netters,\n",
            "\n",
            "Quantum LPS 240AT harddisk forsale.\n",
            "\n",
            "3.5\" frame, 1/3 height.\n",
            "IDE format, master or slave\n",
            "723 cyl 13 hd 51 s/t = 234.9 real megs\n",
            "Access time of 16 ms.\n",
            "256K cache on the drive\n",
            "\n",
            "Asking $300. \n"
          ]
        },
        {
          "data": {
            "text/html": [
              "<table border=\"1\" class=\"dataframe\">\n",
              "  <thead>\n",
              "    <tr style=\"text-align: right;\">\n",
              "      <th></th>\n",
              "      <th>index</th>\n",
              "      <th>similitud</th>\n",
              "      <th>target</th>\n",
              "      <th>texto</th>\n",
              "    </tr>\n",
              "  </thead>\n",
              "  <tbody>\n",
              "    <tr>\n",
              "      <th>0</th>\n",
              "      <td>4004</td>\n",
              "      <td>0.227706</td>\n",
              "      <td>comp.sys.ibm.pc.hardware</td>\n",
              "      <td>Hi,<br><br>  I have bought a new harddisk and want to use it with my old<br>  TEAC SD3105 , 100Mb harddisk. Unfortunataly I do not have any <br>  documentation with this harddisk. Could someone please tell me<br>  how I should set the jumpers for master or slave ?<br>&#09;&#09;  <br>&#09;&#09;&#09;&#09;       Thanks in advance,<br>&#09;&#09;&#09;&#09;       Robert Tenback.<br>&#09;&#09;&#09;&#09;       &lt;rhtenbac@cs.ruu.nl&gt;</td>\n",
              "    </tr>\n",
              "    <tr>\n",
              "      <th>1</th>\n",
              "      <td>2991</td>\n",
              "      <td>0.195262</td>\n",
              "      <td>comp.sys.ibm.pc.hardware</td>\n",
              "      <td>I'm having trouble with installing a second IDE drive on a Promise IDE caching<br>controller. The first drive is a conner 3204 and works fine. The second drive<br>is a conner 30174, it is currently unjumpered  to be the slave drive. The<br>problem is the slave drive is recognized but is reported back as having no<br>free space. Disabling cache has made no effect. What else should I check for?</td>\n",
              "    </tr>\n",
              "    <tr>\n",
              "      <th>2</th>\n",
              "      <td>6100</td>\n",
              "      <td>0.184595</td>\n",
              "      <td>sci.electronics</td>\n",
              "      <td><br>Well,  if you're willing to spend a little money,  you could buy one<br>of those IDE caching controllers (assuming you have an IDE of course)<br>and put the 256K SIMMs on them.  Hardware cache!</td>\n",
              "    </tr>\n",
              "    <tr>\n",
              "      <th>3</th>\n",
              "      <td>4578</td>\n",
              "      <td>0.183450</td>\n",
              "      <td>misc.forsale</td>\n",
              "      <td><br>I am selling a Western Digital 212 meg IDE HD, the Caviar 2200 model.  The <br>access time is &lt;15 ms, and it has a built in cache.  It is BRAND NEW, still<br>in the original static bag.  Asking $275, obo.  <br><br></td>\n",
              "    </tr>\n",
              "    <tr>\n",
              "      <th>4</th>\n",
              "      <td>4100</td>\n",
              "      <td>0.176129</td>\n",
              "      <td>comp.sys.ibm.pc.hardware</td>\n",
              "      <td>: <br>: Hello<br>: <br>: I have problems combining two IDE hard disks<br>: (Seagate ST3283A and Quantum LPS105A). As single hard disk both<br>: are working fine, but connecting them together to my <br>: controller doesn't work.<br>: <br>: My questions are:<br>: <br>: - Has anybody out there ever been succesful using such hard disks<br>:   together and if so what jumper settings and BIOS settting did he/she<br>:   use?<br>: <br>: - Is it possible that my controller is the reason for my troubles ?<br>:   The only thing I know about it is that it is an <br>:   IDE-harddisk-controller. How many harddisks can such a controller<br>:   control? In my case only one ?<br>: <br>: <br>: Thanks in advance<br>: <br>: &#09;Volker<br>: <br>IDE drives have jumpers on them to indicate if it is a master or a slave.<br>If it is a master, then a second jumper indicates if a slave is present.<br>These must be set correctly according to each drive's manufacturers spec-<br>ification.  The CMOS setup is almost positively NOT the problem.  It is<br>probably not the controller - IDE controllers all support exactly two<br>drives maximum.  Check those jumpers.</td>\n",
              "    </tr>\n",
              "  </tbody>\n",
              "</table>"
            ],
            "text/plain": [
              "<IPython.core.display.HTML object>"
            ]
          },
          "metadata": {},
          "output_type": "display_data"
        },
        {
          "name": "stdout",
          "output_type": "stream",
          "text": [
            "*****************************************\n",
            "Similitudes para documento: 4627\n",
            "label: rec.sport.baseball\n",
            "texto:\n",
            "\n",
            "Bill James is, however, very closely tied to STATS.\n"
          ]
        },
        {
          "data": {
            "text/html": [
              "<table border=\"1\" class=\"dataframe\">\n",
              "  <thead>\n",
              "    <tr style=\"text-align: right;\">\n",
              "      <th></th>\n",
              "      <th>index</th>\n",
              "      <th>similitud</th>\n",
              "      <th>target</th>\n",
              "      <th>texto</th>\n",
              "    </tr>\n",
              "  </thead>\n",
              "  <tbody>\n",
              "    <tr>\n",
              "      <th>0</th>\n",
              "      <td>1968</td>\n",
              "      <td>0.381607</td>\n",
              "      <td>rec.sport.baseball</td>\n",
              "      <td><br>[Some discussion about whether Elias is money grubbing deleted]<br><br><br><br><br><br>Some thoughts and facts,<br><br>1.)  Bill James is a partial owner of STATS, inc.  However he has almost<br>nothing to do with the day-to-day operations of the company, although he<br>does have significant input into the design of the books that bear his name.<br>(The handbook, but not the scoreboard).  To the best of my knowledge, the<br>only things that Bill actually writes for STATS are the predictions section<br>of the handbook, and the Bill James Fantasy Baseball rulebook.<br><br>2.) The debate over Elias goes way back.  Bill James' early stuff was hampered<br>by the fact that Elias would not give access to their stats at any price.<br>Project Scoresheet, and later, STATS were founded to fill this void.  You<br>can call STATS, and ask them for a report on just about anything in their<br>database, and they will provide it -- for a price, of course.  Or you could<br>just log into their online system and look at the data yourself.  Having<br>attempted to pry numbers from Elias in the past (football, not baseball), they<br>just don't do that.  In STATS eyes, the high ground comes from making the<br>information available at all.<br><br>3.)  That being said, I'm pretty dissapointed by Bill's book this year, too.<br>I am given to understant that it was mostly a response to the publishers <br>desire to have the book come out sooner than April.<br><br>Hope this makes things just a little bit clearer.<br><br>(Bias alert.  I am a former part-time employee of STATS.)</td>\n",
              "    </tr>\n",
              "    <tr>\n",
              "      <th>1</th>\n",
              "      <td>1231</td>\n",
              "      <td>0.318910</td>\n",
              "      <td>rec.sport.baseball</td>\n",
              "      <td><br><br><br>Uh, Bill James doesn't sell statistics.  He sells books with statistics,<br>but he is not in the business of providing stats like Elias, STATS,<br>Howe, Baseball workshop etc. are.</td>\n",
              "    </tr>\n",
              "    <tr>\n",
              "      <th>2</th>\n",
              "      <td>4968</td>\n",
              "      <td>0.294406</td>\n",
              "      <td>rec.sport.baseball</td>\n",
              "      <td><br>funny, it seems to me that the stats major league and minor league handbooks,<br>which are nothing BUT collections of statistics, are authored by \"bill james<br>and stats inc. (and howe, for the minor league handbook)\".<br><br>and i am not sure how the 1993 bill james player ratings book qualifies<br>as a \"book with statistics\", while the elias analyst is a \"statistics book\".<br>the analyst contains more stats, sure, but it also contains more dialogue.<br><br>finally, the point was not about the word \"statistics\".  it was about<br>\"money-grubbing\".  i don't see how anyone who has looked at the bill<br>james player ratings book cannot consider him money-grubbing.</td>\n",
              "    </tr>\n",
              "    <tr>\n",
              "      <th>3</th>\n",
              "      <td>6174</td>\n",
              "      <td>0.256514</td>\n",
              "      <td>rec.sport.baseball</td>\n",
              "      <td><br><br><br><br>Not totally true.  For the past year or two, the AP has been getting box<br>scores from STATS, Inc.  The AP representative in the press box is actually<br>a STATS reporter ($25 dollars a game, but free parking.  And anybody can<br>do it.)  The box is downloaded to STATS in Chicago, some quick error <br>checking is done, and then STATS sends it to the AP.  I'm not sure where<br>the appreveiations come in hear.  I don't think it is at STATS's.  It may<br>just be a space correction by the AP sports editor that day. <br><br>While I'm mentioning STATS reporters, they are always looking for new<br>people.  Especially if you live in Cleveland or Pittsburgh, you're road<br>to getting into the press box may be real short.  For more info, call <br>STATS (708) 676-3322, and ask about the reporter network.  It's a fun<br>way to get paid for watching baseball games.<br><br>End of public service announcement.<br><br></td>\n",
              "    </tr>\n",
              "    <tr>\n",
              "      <th>4</th>\n",
              "      <td>439</td>\n",
              "      <td>0.208497</td>\n",
              "      <td>rec.sport.baseball</td>\n",
              "      <td>I forgot to mention that the stats are for games through 4/20.</td>\n",
              "    </tr>\n",
              "  </tbody>\n",
              "</table>"
            ],
            "text/plain": [
              "<IPython.core.display.HTML object>"
            ]
          },
          "metadata": {},
          "output_type": "display_data"
        },
        {
          "name": "stdout",
          "output_type": "stream",
          "text": [
            "*****************************************\n",
            "Similitudes para documento: 4506\n",
            "label: talk.religion.misc\n",
            "texto:\n",
            "   Surely you are not equating David Koresh with Christianity? The two are\n",
            "   not comparable.\n"
          ]
        },
        {
          "data": {
            "text/html": [
              "<table border=\"1\" class=\"dataframe\">\n",
              "  <thead>\n",
              "    <tr style=\"text-align: right;\">\n",
              "      <th></th>\n",
              "      <th>index</th>\n",
              "      <th>similitud</th>\n",
              "      <th>target</th>\n",
              "      <th>texto</th>\n",
              "    </tr>\n",
              "  </thead>\n",
              "  <tbody>\n",
              "    <tr>\n",
              "      <th>0</th>\n",
              "      <td>6765</td>\n",
              "      <td>0.418703</td>\n",
              "      <td>talk.religion.misc</td>\n",
              "      <td>: <br>: &gt; Surely you are not equating David Koresh with Christianity? The two are<br>: &gt; not comparable.<br>: <br>: This is always an option: when the sect is causing harm, re-label<br>: the cult to something else.<br>: <br>: Cheers,<br>: Kent<br><br>Good point.<br><br>I would not doubt that DK could have spouted verse and debated with best.<br>According to reports his extensive Bible knowledge was one way he sucked<br>in the fools (followers?).<br><br>Quote bible all you want. I too judge what you say be what you do and<br>even more by if it makes sense.<br><br>Sense, common that is.  Doesn't seem so common after all!<br></td>\n",
              "    </tr>\n",
              "    <tr>\n",
              "      <th>1</th>\n",
              "      <td>5363</td>\n",
              "      <td>0.275627</td>\n",
              "      <td>talk.politics.misc</td>\n",
              "      <td><br><br>dead? I saw David Koresh at a local 7-11......<br></td>\n",
              "    </tr>\n",
              "    <tr>\n",
              "      <th>2</th>\n",
              "      <td>2502</td>\n",
              "      <td>0.259255</td>\n",
              "      <td>alt.atheism</td>\n",
              "      <td>On one of the morning shows (I think is was the Today Show), David Koresh's<br>lawyer was interviewed. During that interview he flipped through some letters<br>that David Koresh wrote. On one of letters was written in Hebrew (near the<br>bottom of the page):<br><br>  koresh adonai</td>\n",
              "    </tr>\n",
              "    <tr>\n",
              "      <th>3</th>\n",
              "      <td>1470</td>\n",
              "      <td>0.243400</td>\n",
              "      <td>sci.crypt</td>\n",
              "      <td><br><br>They are and they have.<br><br>David<br></td>\n",
              "    </tr>\n",
              "    <tr>\n",
              "      <th>4</th>\n",
              "      <td>4784</td>\n",
              "      <td>0.234732</td>\n",
              "      <td>alt.atheism</td>\n",
              "      <td><br>I suppose for the same reason that you do not believe in all the gods.  Why<br>should any be any different?  I use the same arguments to dismiss Koresh<br>as I do god.  Tell me, then, why do you not believe that Koresh is the son<br>of god?  By logic it is equally possible that Koresh is Jesus reborn. <br><br><br></td>\n",
              "    </tr>\n",
              "  </tbody>\n",
              "</table>"
            ],
            "text/plain": [
              "<IPython.core.display.HTML object>"
            ]
          },
          "metadata": {},
          "output_type": "display_data"
        },
        {
          "name": "stdout",
          "output_type": "stream",
          "text": [
            "*****************************************\n",
            "Similitudes para documento: 4572\n",
            "label: soc.religion.christian\n",
            "texto:\n",
            "[Someone quoted the following.  I've removed the name because it's not\n",
            "clear which name goes with which level of quote.  --clh]\n",
            "\n",
            "\n",
            "\n",
            "On the basis of these examples I would say that Joe Moore was only wrong\n",
            "in claiming Augustine as a prime mover of the sin=sex view.  These quotes\n",
            "clearly equate sexuality with defilement and incontinance, even within\n",
            "the marriage relationship (else they would not apply to Mary after her marriage\n",
            "to Joseph).\n",
            "\n",
            "So Joe's assignment of the reasoning behind the concept of the perpetual\n",
            "virginity of Mary does seem to be supported by these quotes.\n",
            "\n"
          ]
        },
        {
          "data": {
            "text/html": [
              "<table border=\"1\" class=\"dataframe\">\n",
              "  <thead>\n",
              "    <tr style=\"text-align: right;\">\n",
              "      <th></th>\n",
              "      <th>index</th>\n",
              "      <th>similitud</th>\n",
              "      <th>target</th>\n",
              "      <th>texto</th>\n",
              "    </tr>\n",
              "  </thead>\n",
              "  <tbody>\n",
              "    <tr>\n",
              "      <th>0</th>\n",
              "      <td>3768</td>\n",
              "      <td>0.299574</td>\n",
              "      <td>soc.religion.christian</td>\n",
              "      <td>[referring to Mary]<br><br>I have quite a problem with the idea that Mary never committed a sin.<br>Was Mary fully human?  If it is possible for God to miraculously make <br>a person free of original sin, and free of committing sin their whole<br>life, then what is the purpose of the Incarnation of Jesus?  Why can't<br>God just repeat the miracle done for Mary to make all the rest of us<br>sinless, without the need for repentance and salvation and all that?<br><br>I don't particularly object to the idea of the assumption, or the<br>perpetual virginity (both of which I regard as Catholic dogma about which<br>I will agree to disagree with my Catholic brothers and sisters in<br>Christ), and I even believe in the virgin birth of Jesus, but this<br>concept of Mary's sinlessness seems to me to be at odds with the<br>rest of Christian doctrine as I understand it.</td>\n",
              "    </tr>\n",
              "    <tr>\n",
              "      <th>1</th>\n",
              "      <td>3672</td>\n",
              "      <td>0.275061</td>\n",
              "      <td>soc.religion.christian</td>\n",
              "      <td><br>:                                                               Consequently,<br>: this verse indicates that she was without sin.  Also, as was observed at<br>: the very top of this post, Mary had to be free from sin in order to be the<br>: mother of Jesus, who was definitely without sin.<br><br>If the mother of Jesus had to be without sin in order to give<br>birth to God, then why didn't Mary's mother have to be without<br>sin in order to give birth to the perfect vessel for Jesus?  For<br>that matter, why didn't Mary's grandmother have to be without sin<br>either?  Seems to me that with all the original sin flowing<br>through each person, the need for the last one (Mary) to have<br>none puts God in a box, where we say that He couldn't have<br>incarnated Himself through a normal human being.<br><br>My God is an all powerful God, Who can do whatever suits His<br>purpose.  This includes creating a solar system and planet earth<br>with the appearance of great age; providing a path through the<br>Red Sea for the children of Israel that does not depend on the<br>existence of a ridge of high ground and a wind blowing at the<br>right speed and direction; and the birth of Himself from a normal<br>sinful person without being tainted by her original sin.<br><br>I see far too much focus on the \"objects\" of religion and not<br>nearly enough on the personal relationship that is available to<br>all believers with the Author of our existence, without the<br>necessity of having this relationship channeled through conduits<br>to God in the form of Mary, Apostles and a Pope.<br><br>: Note that the idea of Mary being conceived without Original Sin, i.e. the<br>: Immaculate Conception, is distinct from the idea of Mary not having sinned<br>: during her lifetime, which is a separate doctrine and, I believe, also<br>: held by the Catholic Church.<br><br>If Mary was born without original sin, and didn't sin during her<br>lifetime, how is she any different from Jesus?  This means the<br>world has had two perfect humans:  one died to take away the sins<br>of the world;  the other gave birth to Him?  I would certainly<br>want to see some scriptural support for this before I would start<br>praying to anyone other than God.  Everything I have ever read<br>from the bible teaches me that Jesus was and is the only sinless<br>Lamb of God, not His mother, grandmother........<br><br>: Hope this is useful to you.<br><br>Very useful in helping me understand some of the RC beliefs.<br>Thank you.</td>\n",
              "    </tr>\n",
              "    <tr>\n",
              "      <th>2</th>\n",
              "      <td>1716</td>\n",
              "      <td>0.251366</td>\n",
              "      <td>soc.religion.christian</td>\n",
              "      <td>speaking of the Immaculate Conception of the Blessed Virgin:<br><br><br>Yes.  For examples of this in the writings of the early fathers, consider:<br><br>    You alone and your Mother<br>        are more beautiful than any others;<br>    For there is no blemish in you,<br>        nor any stains upon your Mother.<br>    Who of my children<br>        can compare in beauty to these?<br>                -- St. Ephrem the Syrian, Nisibene Hymns, 27:8, around<br>                   A.D. 370<br><br>    Lift me up not from Sara but from Mary, a Virgin not only undefiled <br>    but a Virgin whom grace has made inviolate, free of every stain of sin.<br>                -- St. Ambrose, \"Commentary on Psalm 118\", 22:30, ca. A.D. 388<br><br>There are many others.<br><br><br>No.  We have, for instance:<br><br>    Was there ever anyone of any breeding who dared to speak the name of<br>    Holy Mary, and being questioned, did not immediately add, \"the Virgin\"?<br>    ... And to Holy Mary, Virgin is invariably added, for that Holy Woman<br>    remains undefiled.<br>                -- St. Epiphanus of Salamis, \"Panacea against all heresies\",<br>                   between A.D. 374-377.<br><br>    We surely cannot deny that you were right in correcting the doctrine<br>    about children of Mary ... For the Lord Jesus would not have chosen<br>    to be born of a virgin if He had judged that she would be so incontinent<br>    as to taint the birthplace of the Body of the Lord, home of the Eternal<br>    King, with the seed of human intercourse.  Anyone who proposes this is<br>    merely proposing ... that Christ could not be born of a virgin.<br>                -- Pope St. Siricius, Letter to Anysius, Bishop of <br>                   Thessalonica, A.D. 392<br><br>Note that St. Augustine's conversion to Christianity was in A.D. 387.  I<br>don't know offhand when his election as bishop of Hippo was, but I'm quite<br>sure it was after 392.  The belief in Mary's perpetual virginity originated<br>long before Augustine's time.  We hold that it originated with the <br>Apostles.<br><br>Strictly speaking, however, Mary's perpetual virginity is independent<br>of her Immaculate Conception.  Mary could have been Immaculately <br>Conceived and not remained a virgin; she could have remained a virgin<br>and not been Immaculately Conceived.<br><br><br>No.  It has been held in the Church since ancient times that original<br>sin was transmitted at conception, when a person's life begins.<br>Biology had nothing to do with it.  Prayerfully reflecting on the<br>truth of Mary's sinlessness, and the means by which God could have<br>achieved this, the Church arrived at the truth of the Immaculate<br>Conception.  Thus, the Immaculate Conception is not a new doctrine,<br>but the logical result of our understanding of two old ones.<br><br>The celebration of the Feast of the Immaculate Conception itself was<br>given by Pope Sixtus IV (1471-84) and the Feast was made a precept<br>feast of the Church by Pope Clement XI (1700-21).<br><br><br>No.  First of all, Lourdes is private revelation, and doctrine is not<br>based on private revelation.  The most that private revelation can do<br>is enhance and deepen our understanding of existing public revelation,<br>which ended with the death of St. John the Apostle.<br><br>Second, the \"case for the doctrine\" was irreformably sealed in 1854 <br>with the ex cathedra promulgation of the Bull \"Ineffabilis Deus\" by<br>Pope Pius IX.  This meant that the doctrine was formally recognized as<br>a dogma; a dogma, by definition, cannot change and is required to be<br>believed by the faithful.<br><br>The apparition at Lourdes happened in 1858, four years later.  The most<br>that might be claimed is that Lourdes gave the infallible proclamation<br>of 1854 a sort of heavenly stamp of approval, but the Church has never<br>claimed that, nor shall she.<br><br>In Christ's Peace,<br><br>Brad Kaiser<br>(bradk@isdgsm.eurpd.csg.mot.com)</td>\n",
              "    </tr>\n",
              "    <tr>\n",
              "      <th>3</th>\n",
              "      <td>1051</td>\n",
              "      <td>0.244472</td>\n",
              "      <td>soc.religion.christian</td>\n",
              "      <td>whitsebd@nextwork.rose-hulman.edu (Bryan Whitsell) sent in a list of verses <br>which he felt condemn homosexuality.  mls@panix.com (Michael Siemon) wrote in <br>response that some of these verses \"are used against us only through incredibly <br>perverse interpretations\" and that others \"simply do not address the issues.\"<br><br>[remainder of my post deleted]  The moderator then made some comments I would <br>like to address:<br><br><br>If you are referring to the terms \"effeminate\" and \"homosexuals\" in<br>the above passage, I agree that the accuracy of the translation has<br>been challenged.  However, I was simply commenting on the charge that<br>it is an \"incredibly perverse\" interpretation to read this as a<br>condemnation of homosexuality.  Such a charge seems to imply that no<br>reasonable person would ever conclude from the verse that Paul<br>intended to condemn homosexuality; however, I think I can see how a<br>reasonable person might very well take this view of the verse.<br>Therefore I do not believe it is \"incredibly perverse\" to read it in<br>this way.<br><br><br>Actually, I wasn't thinking of the church at all.  After all, a couple<br>doesn't have to be married by a minister.  A secular justice of the<br>peace could do the job, and the two people would be married.  My point<br>was that it is easy to find a biblical basis for heterosexual<br>marriage, but where in the Bible would one get a Christian marriage<br>between two people of the same sex?  And if you do see a biblical<br>basis for same-sex marriages, how willing would gay Christians be to<br>\"save themselves\" for such a marriage and to never have sexual<br>intercourse with anyone outside of that marriage relationship?  Please<br>note that I am not trying to imply that gay Christians would not be<br>willing to be so monogamous, I am genuinely interested in hearing<br>opinions on the subject.  I have heard comments from gays in the past<br>that lead me to believe they regard promiscuity as one of the main<br>points of being homosexual, yet I tend to doubt that gays who want to<br>be Christian would advocate such a position.  So what is the gay view?<br><br>- Mark</td>\n",
              "    </tr>\n",
              "    <tr>\n",
              "      <th>4</th>\n",
              "      <td>937</td>\n",
              "      <td>0.237859</td>\n",
              "      <td>soc.religion.christian</td>\n",
              "      <td><br>   Yes, Mary is fully human.  However, that does not imply that she was<br>just as subject to sin as we are.  Catholic doctrine says that man's<br>nature is good (Gen 1:31), but is damaged by Original Sin (Rom 5:12-16).<br>In that case, being undamaged by Original Sin, Mary is more fully human<br>than any of the rest of us.<br><br>   You ask why God cannot \"repeat the miracle\" of Mary's preservation<br>from Original Sin.  A better way to phrase it would be \"why _did_ He<br>not\" do it that way, but you misunderstand how Mary's salvation was<br>obtained.  Like ours, the Blessed Virgin Mary's salvation was obtained<br>through the merits of the Sacrifice of Christ on the Cross.  However, as<br>God is not bound by time, which is His creation, God is free to apply<br>His Sacrifice to anyone at any time, even if that person lived before<br>Christ came to Earth, from our time-bound perspective.  Therefore,<br>Christ's Death and Resurrection still served a necessary purpose, and<br>were necessary even for Mary's salvation.</td>\n",
              "    </tr>\n",
              "  </tbody>\n",
              "</table>"
            ],
            "text/plain": [
              "<IPython.core.display.HTML object>"
            ]
          },
          "metadata": {},
          "output_type": "display_data"
        },
        {
          "name": "stdout",
          "output_type": "stream",
          "text": [
            "*****************************************\n"
          ]
        }
      ],
      "source": [
        "rnd.seed(92)\n",
        "# Tomo 5 muestras al azar, sobre los documentos vectorizados para el set de test.\n",
        "doc_idxs = rnd.sample(range(0, X_test.shape[0]), 5)\n",
        "\n",
        "for idx in doc_idxs:\n",
        "    # Por cada muestra, busco los documentos similares\n",
        "    cossim = cosine_similarity(X_test[idx], X_test)[0]\n",
        "    # Ordeno los resultados de mayor a menor y me quedo con los 5 indices mas similares, ingorando el primero, que es el mismo documento\n",
        "    mostsim = np.argsort(cossim)[::-1][1:6]\n",
        "    list_sims = []\n",
        "    for sim in mostsim:\n",
        "        list_sims.append({\"index\": sim, \"similitud\": cossim[sim], \"target\": newsgroups_test.target_names[y_test[sim]], \"texto\": newsgroups_test.data[sim]})\n",
        "    df_sims = pd.DataFrame(list_sims)\n",
        "    print(f\"Similitudes para documento: {idx}\\nlabel: {newsgroups_test.target_names[y_test[idx]]}\\ntexto:\\n{newsgroups_test.data[idx]}\")\n",
        "    html_table = df_sims.to_html().replace(\"\\\\n\", \"<br>\").replace(\"\\\\t\", \"&#09;\")\n",
        "    display(HTML(html_table))\n",
        "    print(\"*****************************************\")\n",
        "\n",
        "# print (docs)"
      ]
    },
    {
      "cell_type": "markdown",
      "metadata": {},
      "source": [
        "#### Conclusiones"
      ]
    },
    {
      "cell_type": "markdown",
      "metadata": {},
      "source": [
        "##### Documento a comparar 3449 con etiqueta talk.politics.guns  \n",
        "El documento habla sobre una autopsia aparentemente por un homicidio que involucra armas y tiros.\n",
        "\n",
        "Comparación con documento 1121, con similitud 0.461568 y etiqueta talk.politics.guns  \n",
        "Coinciden las etiquetas. El texto tiene alguna similitud, hablan de autopsias, balas, heridas, evidencia, etc.\n",
        "\n",
        "Comparación con documento 832, con similitud 0.317879 y etiqueta talk.religion.misc  \n",
        "Las etiquetas son algo distintas, aunque tienen la misma base (talk).  \n",
        "En cuanto al texto, también habla de reportes, balas. No parece un texto de religión, podría estar etiquetado como talk.politics.guns o algo mas parecido a esto.\n",
        "\n",
        "Comparación con documento 4763, con similitud 0.245326 y etiqueta talk.politics.guns  \n",
        "Coinciden las etiquetas. El texto habla sobre disparos, examen médico sobre el cuerpo (aparentemente un homicidio). Parece tener cierta similitud.\n",
        "\n",
        "Comparación con documento 613, con similitud 0.239701 y etiqueta talk.politics.misc  \n",
        "Etiquetas similares, pero no iguales, ambas son discusiones sobre politica, una relacionada a armas, otra a contenido general.\n",
        "El texto también habla sobre cuerpos, disparos, heridas, tiene cierta similitud.\n",
        "\n",
        "Comparación con documento 2695, con similitud 0.210677 y etiqueta talk.politics.misc  \n",
        "Coinciden las etiquetas. El texto habla de examen médico sobre un cuerpo, evidencias, disparos, heridas, etc. También tiene cierta similitud."
      ]
    },
    {
      "cell_type": "markdown",
      "metadata": {},
      "source": [
        "##### Documento a comparar 4228 con etiqueta misc.forsale  \n",
        "El documento habla sobre un aviso de venta de disco rígido.\n",
        "\n",
        "Comparación con documento 4004, con similitud 0.227706 y etiqueta comp.sys.ibm.pc.hardware  \n",
        "Etiquetas totalmente distintas. El texto habla sobre alguien que compró un disco, tiene cierta similitud ya que el documento comparado es sobre un anuncio de venta de un disco.\n",
        "\n",
        "Comparación con documento 2991, con similitud 0.195262 y etiqueta comp.sys.ibm.pc.hardware  \n",
        "Etiquetas totalmente distintas. En cuanto al texto, habla sobre problemas de configuración de un disco, lo cual tiene cierta similitud con el anuncio de venta. Ambos mencionan características del disco, como si funciona como master o slave, cache, formato IDE, etc.\n",
        "\n",
        "Comparación con documento 6100, con similitud 0.184595 y etiqueta sci.electronics  \n",
        "Etiquetas totalmente distintas. El texto hace recomendaciones sobre la compra de un disco IDE, con cache, etc, lo cual tiene cierta similitud.\n",
        "\n",
        "Comparación con documento 4578, con similitud 0.183450 y etiqueta misc.forsale  \n",
        "Coinciden las etiquetas. Tiene cierta similitud al ser otro anuncio de venta de disco, aunque al no describirlos de forma similar, pierde algo de similitud. A mi parecer, este sería un documento más similar que los anteriores, pero la métrica no dice lo mismo.\n",
        "\n",
        "Comparación con documento 4100, con similitud 0.176129 y etiqueta comp.sys.ibm.pc.hardware  \n",
        "Etiquetas totalmente distintas. El texto tiene referencia a un problema con discos en una pc, y la respuesta es una sugerencia sobre configuración de esos discos. No tiene mucha similitud con un aviso de venta en si, pero también hablan principalmente sobre discos rígidos."
      ]
    },
    {
      "cell_type": "markdown",
      "metadata": {},
      "source": [
        "##### Documento a comparar 4627 con etiqueta rec.sport.baseball  \n",
        "El documento habla sobre un jugador de baseball y una empresa llamada STATS.\n",
        "\n",
        "Comparación con documento 1968, con similitud 0.381607 y etiqueta rec.sport.baseball  \n",
        "Coinciden las etiquetas. El texto es mucho mas largo, pero parece hablar sobre la misma discusión, el jugador y que es dueño de la empresa STATS, tiene mucha similitud en contenido general.\n",
        "\n",
        "Comparación con documento 1231, con similitud 0.318910 y etiqueta rec.sport.baseball  \n",
        "Coinciden las etiquetas. También se habla del mismo jugador, y de la empresa STATS, tiene similitud el contenido.\n",
        "\n",
        "Comparación con documento 4968, con similitud 0.294406 y etiqueta rec.sport.baseball  \n",
        "Coinciden las etiquetas. Otro documento donde se habla del jugador y la empresa, tiene similitud.\n",
        "\n",
        "Comparación con documento 6174, con similitud 0.256514 y etiqueta rec.sport.baseball  \n",
        "Coinciden las etiquetas. Este documento habla principalmente sobre la empresa STATS, no menciona al jugador. Tiene cierta similitud, pero no tanta como los documentos anteriores.\n",
        "\n",
        "Comparación con documento 439, con similitud 0.208497 y etiqueta rec.sport.baseball  \n",
        "Coinciden las etiquetas. Más allá de ser el 5to documento, en este se habla de estadísticas y no de la empresa, a simple vista no parece tener similitud en contenido interpretado."
      ]
    },
    {
      "cell_type": "markdown",
      "metadata": {},
      "source": [
        "##### Documento a comparar 4506 con etiqueta talk.religion.misc  \n",
        "El documento habla sobre la comparación entre una persona y el cristianismo, diciendo que no son comparables.\n",
        "\n",
        "Comparación con documento 6765, con similitud 0.418703 y etiqueta talk.religion.misc  \n",
        "Coinciden las etiquetas. El texto tiene una cita directa al documento original, luego un comentario sobre la cita. el hecho de citar el documento original hace que tengan mucha similitud.\n",
        "\n",
        "Comparación con documento 5363, con similitud 0.275627 y etiqueta talk.politics.misc  \n",
        "Etiquetas distintas, aunque sobre la misma rama de discusión general. Se habla de la misma persona en otro contexto, la similitud esta dada por hablar de la misma persona.\n",
        "\n",
        "Comparación con documento 2502, con similitud 0.259255 y etiqueta alt.atheism  \n",
        "Etiquetas distintas, aunque puede haber alguna similitud al hablar de religión y ateismo. El documento menciona a la misma persona, no parece tener mucha similitud en contenido más allá de la mención.\n",
        "\n",
        "Comparación con documento 1470, con similitud 0.243400 y etiqueta sci.crypt  \n",
        "Etiquetas totalmente distintas. El texto es muy corto, no tiene similitud, la firma tiene el mismo nombre que la persona mencionada en el documento comparado, pero no tiene nada que ver una cosa con la otra.\n",
        "\n",
        "Comparación con documento 4784, con similitud 0.234732 y etiqueta alt.atheism  \n",
        "Etiquetas distintas, aunque como se mencionó en un caso anterior, puede haber similitudes. En cuanto al texto, el contenido no es similar, pero usa el apellido del personaje para hacer una comparación."
      ]
    },
    {
      "cell_type": "markdown",
      "metadata": {},
      "source": [
        "##### Documento a comparar 4572 con etiqueta soc.religion.christian  \n",
        "El documento habla sobre pecado, sexualidad, impureza, matrimonio, e interpretación sobre como aplica a María y Jose.\n",
        "\n",
        "Comparación con documento 3768, con similitud 0.299574 y etiqueta soc.religion.christian  \n",
        "Coinciden las etiquetas. El texto tiene bastante relación con el pecado referido a María, e interpretaciones que lo hacen similar al documento comparado.\n",
        "\n",
        "Comparación con documento 3672, con similitud 0.275061 y etiqueta soc.religion.christian  \n",
        "Coinciden las etiquetas. El texto es mucho mas largo, pero habla también sobre María, el pecado, Dios, etc. Bastante relacionado con el texto comparado.\n",
        "\n",
        "Comparación con documento 1716, con similitud 0.251366 y etiqueta soc.religion.christian  \n",
        "Coinciden las etiquetas. Este texto es aun mas largo, pero en general habla principalmente sobre María, el pecado, la virginidad, temas que el documento comparado también tiene.\n",
        "\n",
        "Comparación con documento 1051, con similitud 0.244472 y etiqueta soc.religion.christian  \n",
        "Coinciden las etiquetas. Este documento no coincide casi nada, el tema principal es distinto, aunque habla de matrimonio, sexualidad, cristianismo, que usa como comparativas.\n",
        "\n",
        "Comparación con documento 937, con similitud 0.237859 y etiqueta soc.religion.christian  \n",
        "Coinciden las etiquetas. Este documento tiene alguna similitud, habla de Maria, el pecado, etc."
      ]
    }
  ],
  "metadata": {
    "colab": {
      "provenance": []
    },
    "kernelspec": {
      "display_name": "B4_PNL1",
      "language": "python",
      "name": "python3"
    },
    "language_info": {
      "codemirror_mode": {
        "name": "ipython",
        "version": 3
      },
      "file_extension": ".py",
      "mimetype": "text/x-python",
      "name": "python",
      "nbconvert_exporter": "python",
      "pygments_lexer": "ipython3",
      "version": "3.12.11"
    }
  },
  "nbformat": 4,
  "nbformat_minor": 0
}
